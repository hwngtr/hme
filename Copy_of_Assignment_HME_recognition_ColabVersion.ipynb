{
  "cells": [
    {
      "cell_type": "markdown",
      "metadata": {
        "id": "view-in-github",
        "colab_type": "text"
      },
      "source": [
        "<a href=\"https://colab.research.google.com/github/hwngtr/hme/blob/main/Copy_of_Assignment_HME_recognition_ColabVersion.ipynb\" target=\"_parent\"><img src=\"https://colab.research.google.com/assets/colab-badge.svg\" alt=\"Open In Colab\"/></a>"
      ]
    },
    {
      "cell_type": "code",
      "execution_count": 55,
      "metadata": {
        "colab": {
          "base_uri": "https://localhost:8080/"
        },
        "id": "2KGe_J0_GomF",
        "outputId": "6752fd48-6805-4804-eff8-b6fdb909fe69"
      },
      "outputs": [
        {
          "output_type": "stream",
          "name": "stdout",
          "text": [
            "Data source import complete.\n"
          ]
        }
      ],
      "source": [
        "  # IMPORTANT: RUN THIS CELL IN ORDER TO IMPORT YOUR KAGGLE DATA SOURCES,\n",
        "# THEN FEEL FREE TO DELETE THIS CELL.\n",
        "# NOTE: THIS NOTEBOOK ENVIRONMENT DIFFERS FROM KAGGLE'S PYTHON\n",
        "# ENVIRONMENT SO THERE MAY BE MISSING LIBRARIES USED BY YOUR\n",
        "# NOTEBOOK.\n",
        "import kagglehub\n",
        "ntcuong2103_crohme2019_path = kagglehub.dataset_download('ntcuong2103/crohme2019')\n",
        "\n",
        "print('Data source import complete.')\n"
      ]
    },
    {
      "cell_type": "code",
      "source": [
        "from google.colab import drive\n",
        "drive.mount('/content/drive')"
      ],
      "metadata": {
        "colab": {
          "base_uri": "https://localhost:8080/"
        },
        "id": "016AXadgbBS_",
        "outputId": "4cdd5a60-378a-4932-8392-626fc6f94d7a"
      },
      "execution_count": 56,
      "outputs": [
        {
          "output_type": "stream",
          "name": "stdout",
          "text": [
            "Drive already mounted at /content/drive; to attempt to forcibly remount, call drive.mount(\"/content/drive\", force_remount=True).\n"
          ]
        }
      ]
    },
    {
      "cell_type": "code",
      "execution_count": 57,
      "metadata": {
        "id": "6_aX0FAXHAjT"
      },
      "outputs": [],
      "source": [
        "# If it is failed, run the above cell again to fix\n",
        "assert ntcuong2103_crohme2019_path == \"/kaggle/input/crohme2019\"\n"
      ]
    },
    {
      "cell_type": "markdown",
      "metadata": {
        "id": "DEm0-zzfGomG"
      },
      "source": [
        "## **CROHME Temporal Sequence Classification (CROHME-CTC) Baseline**"
      ]
    },
    {
      "cell_type": "markdown",
      "metadata": {
        "id": "m_BtWPW5GomG"
      },
      "source": [
        "In this project, we will build and train a recurrent neural network (RNN) for translating handwritten mathematical expressions into sequence of symbols and relations based on Symbol Relation Tree and CROHME dataset.\n",
        "\n",
        "The model we'll be using is a simple RNN with a single layer of Bidirectional LSTM cells. We will use Connectionist Temporal Classification (CTC) loss to train the model.\n",
        "\n",
        "The model is trained on the CROHME dataset, which contains handwritten mathematical expressions in the form of Symbol Relation Trees. The dataset is preprocessed and converted into a sequence of symbols and relations, which is used as the input to the model.\n",
        "\n",
        "Your job is to feature engineer the input data and train the model to achieve the best performance possible. Additionally, consider implementing data augmentation techniques to enhance the training dataset."
      ]
    },
    {
      "cell_type": "markdown",
      "metadata": {
        "id": "neUWD9FsW3iU"
      },
      "source": [
        "Some features from the project:\n",
        "\n",
        "*   Public competition dataset: CROHME https://paperswithcode.com/dataset/crohme-2019\n",
        "*   Advance data preparation: time series feature extraction, collate function\n",
        "*   High level API of pytorch lightning\n",
        "*   Experiment tracking with Weight and Biases\n",
        "\n"
      ]
    },
    {
      "cell_type": "markdown",
      "metadata": {
        "id": "UjJVUXAGGomH"
      },
      "source": [
        "## Dependencies"
      ]
    },
    {
      "cell_type": "code",
      "execution_count": 58,
      "metadata": {
        "id": "f38o_eYpHTDP"
      },
      "outputs": [],
      "source": [
        "!pip -q install pytorch-lightning torchmetrics wandb"
      ]
    },
    {
      "cell_type": "code",
      "execution_count": 59,
      "metadata": {
        "id": "vrzqHX_hGomH"
      },
      "outputs": [],
      "source": [
        "import torch\n",
        "import torch.nn as nn\n",
        "import torch.nn.functional as F\n",
        "import torch.optim as optim\n",
        "from torch.utils.data import DataLoader, Dataset\n",
        "from torchmetrics.text import EditDistance\n",
        "\n",
        "import numpy as np\n",
        "import pandas as pd\n",
        "import os\n",
        "\n",
        "import pytorch_lightning as pl\n",
        "from pytorch_lightning import Trainer\n",
        "from pytorch_lightning.callbacks import ModelCheckpoint, LearningRateMonitor\n",
        "from pytorch_lightning.loggers import TensorBoardLogger, WandbLogger\n",
        "import wandb\n",
        "\n",
        "import xml.etree.ElementTree as ET\n",
        "from torch.nn.utils.rnn import pad_sequence\n",
        "\n",
        "import matplotlib.pyplot as plt\n",
        "from collections.abc import Sequence\n",
        "from typing import Literal, Optional, Union\n",
        "\n",
        "import json"
      ]
    },
    {
      "cell_type": "code",
      "execution_count": 60,
      "metadata": {
        "id": "yUw3NzxEGomH",
        "colab": {
          "base_uri": "https://localhost:8080/"
        },
        "outputId": "41ff797c-f747-4419-9511-5b32f2890f2a"
      },
      "outputs": [
        {
          "output_type": "stream",
          "name": "stdout",
          "text": [
            "ln: failed to create symbolic link 'dataset/crohme2019': File exists\n"
          ]
        }
      ],
      "source": [
        "# mount crohme2019 -> dataset\n",
        "!ln -s /kaggle/input/crohme2019 dataset"
      ]
    },
    {
      "cell_type": "markdown",
      "metadata": {
        "id": "iwS9-TZBGomH"
      },
      "source": [
        "> The above command created a symbolic link\n",
        "> dataset -> /kaggle/input/crohme2019\n",
        ">\n",
        "> We can now access the dataset from current directory instead of /kaggle/input"
      ]
    },
    {
      "cell_type": "code",
      "execution_count": 61,
      "metadata": {
        "colab": {
          "base_uri": "https://localhost:8080/"
        },
        "id": "OZVH3nONGomH",
        "outputId": "e7d48d26-4e31-4a0c-cd30-1c026acce6bd"
      },
      "outputs": [
        {
          "output_type": "stream",
          "name": "stdout",
          "text": [
            "Reading package lists... Done\n",
            "Building dependency tree... Done\n",
            "Reading state information... Done\n",
            "tree is already the newest version (2.0.2-1).\n",
            "0 upgraded, 0 newly installed, 0 to remove and 35 not upgraded.\n",
            "\u001b[01;36mdataset\u001b[0m\n",
            "├── \u001b[01;34mcrohme2019\u001b[0m\n",
            "│   └── \u001b[01;34mcrohme2019\u001b[0m\n",
            "│       ├── \u001b[01;34mtest\u001b[0m\n",
            "│       ├── \u001b[01;34mtrain\u001b[0m\n",
            "│       └── \u001b[01;34mvalid\u001b[0m\n",
            "├── \u001b[00mcrohme2019_test.txt\u001b[0m\n",
            "├── \u001b[00mcrohme2019_train.txt\u001b[0m\n",
            "└── \u001b[00mcrohme2019_valid.txt\u001b[0m\n",
            "\n",
            "5 directories, 3 files\n"
          ]
        }
      ],
      "source": [
        "# This code for displaying current directory tree, you don't need to run.\n",
        "\n",
        "!sudo apt-get install tree\n",
        "!tree -L 3 dataset"
      ]
    },
    {
      "cell_type": "markdown",
      "metadata": {
        "id": "VFGrDs0lI0Gw"
      },
      "source": [
        "### Overview of the dataset"
      ]
    },
    {
      "cell_type": "markdown",
      "metadata": {
        "id": "EDsGmF07IuYe"
      },
      "source": [
        "This is the folder structure of the dataset.\n",
        "\n",
        "```\n",
        "dataset\n",
        "├── crohme2019\n",
        "│   └── crohme2019\n",
        "│       ├── test\n",
        "│       ├── train\n",
        "│       └── valid\n",
        "├── crohme2019_test.txt\n",
        "├── crohme2019_train.txt\n",
        "└── crohme2019_valid.txt\n",
        "```\n",
        "\n",
        "There are two parts:\n",
        "* Inkml files: XML based files containing handwriting data (sequences of handwritten strokes) captured from the devices.\n",
        "```\n",
        "dataset\n",
        "├── crohme2019\n",
        "│   └── crohme2019\n",
        "│       ├── test\n",
        "│       ├── train\n",
        "│       └── valid\n",
        "```\n",
        "* Annotation files: Containing the labels for each input handwriting samples.\n",
        "```\n",
        "dataset\n",
        "├── crohme2019_test.txt\n",
        "├── crohme2019_train.txt\n",
        "└── crohme2019_valid.txt\n",
        "```\n"
      ]
    },
    {
      "cell_type": "markdown",
      "metadata": {
        "id": "Jz5_G7uZJWfC"
      },
      "source": [
        "> An example of inkml file, the points (x, y coords) are recorded in each trace (handwritten stroke).\n",
        "\n",
        "```\n",
        "<ink xmlns=\"http://www.w3.org/2003/InkML\">\n",
        "<traceFormat>\n",
        "<channel name=\"X\" type=\"decimal\"/>\n",
        "<channel name=\"Y\" type=\"decimal\"/>\n",
        "</traceFormat>\n",
        "...\n",
        "\n",
        "<trace id=\"0\">\n",
        "241 123, 240 123, 239 123, 238 123, 237 123, 236 123, 236 122, 237 122, 238 122, 240 122, 242 122, 244 122, 247 122, 251 121, 254 121, 257 121, 260 120, 262 120, 265 120, 266 120, 267 120, 268 120, 269 120, 268 120\n",
        "</trace>\n",
        "<trace id=\"1\">\n",
        "301 123, 300 124, 299 124, 298 124, 297 124, 296 124, 295 124, 294 124, 295 124, 296 124, 297 124, 298 124, 299 123, 301 123, 302 123, 303 123, 304 122, 305 122, 306 122, 307 122, 308 122, 310 122, 311 122, 314 122, 316 121, 317 121, 319 121, 321 121, 323 121, 328 120, 330 120, 332 120, 333 120, 335 120, 336 120, 344 119, 346 119, 348 119, 350 119, 352 119, 357 119, 358 119, 360 119, 362 119, 364 119, 365 119, 370 119, 372 119, 373 119, 374 119, 375 119, 377 119, 377 118, 376 118, 374 118, 372 118\n",
        "</trace>\n",
        "<trace id=\"2\">\n",
        "318 89, 319 89, 320 89, 321 88, 323 87, 324 86, 325 84, 326 83, 327 82, 328 80, 329 79, 330 77, 331 75, 332 74, 333 73, 333 72, 333 73, 333 75, 333 76, 333 78, 333 80, 332 81, 332 83, 332 85, 332 86, 332 88, 332 90, 332 92, 332 93, 333 95, 333 97, 333 98, 333 100, 333 101, 333 102, 333 103, 333 104, 333 103, 333 101, 332 99\n",
        "</trace>\n",
        "<trace id=\"3\">\n",
        "302 148, 301 148, 302 147, 302 146, 303 145, 304 144, 305 143, 306 142, 307 140, 308 139, 308 138, 308 137, 308 136, 308 137, 308 138, 309 139, 309 140, 309 141, 309 142, 309 144, 309 146, 309 147, 309 149, 309 151, 309 153, 309 155, 309 157, 310 159, 310 162, 310 164, 310 169, 310 171, 310 172, 310 174, 311 175, 311 179, 311 180, 311 181, 311 182, 311 181\n",
        "</trace>\n",
        "...\n",
        "\n",
        "</ink>\n",
        "\n",
        "```\n",
        "\n",
        "> An example of annotation file: left part is inkml file path, right part is the label (target) for that inkml file.\n",
        "\n",
        "```\n",
        "...\n",
        "crohme2019/test/UN19_1041_em_597.inkml\t- Right \\sqrt Inside 2\n",
        "crohme2019/test/UN19_1019_em_256.inkml\ta Right n Right y\n",
        "crohme2019/test/UN19_1033_em_474.inkml\tV Sub n Right - Right 1 NoRel = Right \\int Right d Sup n Right - Right 1 NoRel x Right \\sqrt Inside h\n",
        "\n",
        "...\n",
        "```\n",
        "\n",
        "> The label is a sequence of **symbols** and **spatial relations** between symbols (based on writing order).\n",
        "\n"
      ]
    },
    {
      "cell_type": "markdown",
      "metadata": {
        "id": "ZGmVmcPDGomI"
      },
      "source": [
        "## Task 1: Build Vocabulary\n",
        "\n",
        "Builds and manages a vocabulary for converting characters (tokens) to indices (encoding) and vice-versa (decoding). This is essential for processing text data in machine learning tasks, particularly for sequence-to-sequence models like those used in handwriting recognition or mathematical expression translation.\n",
        "\n",
        "In this project, the vocabulary is for encoding the target sequence (for example: \"- Right \\\\sqrt Inside 2\") into a sequence of indices ([5, 37, 74, 30, 10]). It is constructed from multiple annotation files (train, test, and validation sets) and includes a special blank character (this is for CTC loss). It supports encoding (tokens to indices) and decoding (indices to tokens) operations.\n",
        "\n",
        "\n",
        "> _You will need to build the `class Vocab` using the two functions provided. Also the vocabulary should be exported as a JSON file so that we can reuse it later in the dataset._\n",
        "\n",
        "***Input***: the path to the dataset files _(train, valid, and test)_.\n",
        "\n",
        "\n",
        "```python\n",
        "paths = [\n",
        "    \"dataset/crohme2019_train.txt\",\n",
        "    \"dataset/crohme2019_test.txt\",\n",
        "    \"dataset/crohme2019_valid.txt\",\n",
        "]\n",
        "```\n",
        "\n",
        "***Output***: the vocabulary.\n",
        "\n",
        "```python\n",
        "vocab = {\n",
        "    \"a\": 0,\n",
        "    \"b\": 1,\n",
        "    \"c\": 2,\n",
        "    ...\n",
        "}\n",
        "```"
      ]
    },
    {
      "cell_type": "code",
      "execution_count": 62,
      "metadata": {
        "colab": {
          "base_uri": "https://localhost:8080/",
          "height": 206
        },
        "collapsed": true,
        "id": "NVdsl2TqGomI",
        "outputId": "6cba8c53-d0ec-44f1-f14b-7100cb53bc59"
      },
      "outputs": [
        {
          "output_type": "execute_result",
          "data": {
            "text/plain": [
              "                                        path  \\\n",
              "0     crohme2019/test/UN19_1032_em_455.inkml   \n",
              "1     crohme2019/test/UN19_1044_em_632.inkml   \n",
              "2  crohme2019/test/UN19wb_1111_em_1039.inkml   \n",
              "3     crohme2019/test/UN19_1028_em_394.inkml   \n",
              "4      crohme2019/test/UN19_1005_em_64.inkml   \n",
              "\n",
              "                                               label  \n",
              "0  4 Right n Right - Right 4 Right ) NoRel ( NoRe...  \n",
              "1  \\phi Sub 0 NoRel = Right d Right x Sup 1 Right...  \n",
              "2  9 Right \\times Right 9 Right + Right 1 Right 3...  \n",
              "3  \\tan Right \\alpha Right \\tan Right \\theta Sup ...  \n",
              "4  a Right = NoRel 1 NoRel - Below \\sqrt Inside 2...  "
            ],
            "text/html": [
              "\n",
              "  <div id=\"df-6a822ed7-1907-4916-8059-2b1f6323a923\" class=\"colab-df-container\">\n",
              "    <div>\n",
              "<style scoped>\n",
              "    .dataframe tbody tr th:only-of-type {\n",
              "        vertical-align: middle;\n",
              "    }\n",
              "\n",
              "    .dataframe tbody tr th {\n",
              "        vertical-align: top;\n",
              "    }\n",
              "\n",
              "    .dataframe thead th {\n",
              "        text-align: right;\n",
              "    }\n",
              "</style>\n",
              "<table border=\"1\" class=\"dataframe\">\n",
              "  <thead>\n",
              "    <tr style=\"text-align: right;\">\n",
              "      <th></th>\n",
              "      <th>path</th>\n",
              "      <th>label</th>\n",
              "    </tr>\n",
              "  </thead>\n",
              "  <tbody>\n",
              "    <tr>\n",
              "      <th>0</th>\n",
              "      <td>crohme2019/test/UN19_1032_em_455.inkml</td>\n",
              "      <td>4 Right n Right - Right 4 Right ) NoRel ( NoRe...</td>\n",
              "    </tr>\n",
              "    <tr>\n",
              "      <th>1</th>\n",
              "      <td>crohme2019/test/UN19_1044_em_632.inkml</td>\n",
              "      <td>\\phi Sub 0 NoRel = Right d Right x Sup 1 Right...</td>\n",
              "    </tr>\n",
              "    <tr>\n",
              "      <th>2</th>\n",
              "      <td>crohme2019/test/UN19wb_1111_em_1039.inkml</td>\n",
              "      <td>9 Right \\times Right 9 Right + Right 1 Right 3...</td>\n",
              "    </tr>\n",
              "    <tr>\n",
              "      <th>3</th>\n",
              "      <td>crohme2019/test/UN19_1028_em_394.inkml</td>\n",
              "      <td>\\tan Right \\alpha Right \\tan Right \\theta Sup ...</td>\n",
              "    </tr>\n",
              "    <tr>\n",
              "      <th>4</th>\n",
              "      <td>crohme2019/test/UN19_1005_em_64.inkml</td>\n",
              "      <td>a Right = NoRel 1 NoRel - Below \\sqrt Inside 2...</td>\n",
              "    </tr>\n",
              "  </tbody>\n",
              "</table>\n",
              "</div>\n",
              "    <div class=\"colab-df-buttons\">\n",
              "\n",
              "  <div class=\"colab-df-container\">\n",
              "    <button class=\"colab-df-convert\" onclick=\"convertToInteractive('df-6a822ed7-1907-4916-8059-2b1f6323a923')\"\n",
              "            title=\"Convert this dataframe to an interactive table.\"\n",
              "            style=\"display:none;\">\n",
              "\n",
              "  <svg xmlns=\"http://www.w3.org/2000/svg\" height=\"24px\" viewBox=\"0 -960 960 960\">\n",
              "    <path d=\"M120-120v-720h720v720H120Zm60-500h600v-160H180v160Zm220 220h160v-160H400v160Zm0 220h160v-160H400v160ZM180-400h160v-160H180v160Zm440 0h160v-160H620v160ZM180-180h160v-160H180v160Zm440 0h160v-160H620v160Z\"/>\n",
              "  </svg>\n",
              "    </button>\n",
              "\n",
              "  <style>\n",
              "    .colab-df-container {\n",
              "      display:flex;\n",
              "      gap: 12px;\n",
              "    }\n",
              "\n",
              "    .colab-df-convert {\n",
              "      background-color: #E8F0FE;\n",
              "      border: none;\n",
              "      border-radius: 50%;\n",
              "      cursor: pointer;\n",
              "      display: none;\n",
              "      fill: #1967D2;\n",
              "      height: 32px;\n",
              "      padding: 0 0 0 0;\n",
              "      width: 32px;\n",
              "    }\n",
              "\n",
              "    .colab-df-convert:hover {\n",
              "      background-color: #E2EBFA;\n",
              "      box-shadow: 0px 1px 2px rgba(60, 64, 67, 0.3), 0px 1px 3px 1px rgba(60, 64, 67, 0.15);\n",
              "      fill: #174EA6;\n",
              "    }\n",
              "\n",
              "    .colab-df-buttons div {\n",
              "      margin-bottom: 4px;\n",
              "    }\n",
              "\n",
              "    [theme=dark] .colab-df-convert {\n",
              "      background-color: #3B4455;\n",
              "      fill: #D2E3FC;\n",
              "    }\n",
              "\n",
              "    [theme=dark] .colab-df-convert:hover {\n",
              "      background-color: #434B5C;\n",
              "      box-shadow: 0px 1px 3px 1px rgba(0, 0, 0, 0.15);\n",
              "      filter: drop-shadow(0px 1px 2px rgba(0, 0, 0, 0.3));\n",
              "      fill: #FFFFFF;\n",
              "    }\n",
              "  </style>\n",
              "\n",
              "    <script>\n",
              "      const buttonEl =\n",
              "        document.querySelector('#df-6a822ed7-1907-4916-8059-2b1f6323a923 button.colab-df-convert');\n",
              "      buttonEl.style.display =\n",
              "        google.colab.kernel.accessAllowed ? 'block' : 'none';\n",
              "\n",
              "      async function convertToInteractive(key) {\n",
              "        const element = document.querySelector('#df-6a822ed7-1907-4916-8059-2b1f6323a923');\n",
              "        const dataTable =\n",
              "          await google.colab.kernel.invokeFunction('convertToInteractive',\n",
              "                                                    [key], {});\n",
              "        if (!dataTable) return;\n",
              "\n",
              "        const docLinkHtml = 'Like what you see? Visit the ' +\n",
              "          '<a target=\"_blank\" href=https://colab.research.google.com/notebooks/data_table.ipynb>data table notebook</a>'\n",
              "          + ' to learn more about interactive tables.';\n",
              "        element.innerHTML = '';\n",
              "        dataTable['output_type'] = 'display_data';\n",
              "        await google.colab.output.renderOutput(dataTable, element);\n",
              "        const docLink = document.createElement('div');\n",
              "        docLink.innerHTML = docLinkHtml;\n",
              "        element.appendChild(docLink);\n",
              "      }\n",
              "    </script>\n",
              "  </div>\n",
              "\n",
              "\n",
              "    <div id=\"df-3349001d-cdef-4edf-a28c-2547cbacbbe8\">\n",
              "      <button class=\"colab-df-quickchart\" onclick=\"quickchart('df-3349001d-cdef-4edf-a28c-2547cbacbbe8')\"\n",
              "                title=\"Suggest charts\"\n",
              "                style=\"display:none;\">\n",
              "\n",
              "<svg xmlns=\"http://www.w3.org/2000/svg\" height=\"24px\"viewBox=\"0 0 24 24\"\n",
              "     width=\"24px\">\n",
              "    <g>\n",
              "        <path d=\"M19 3H5c-1.1 0-2 .9-2 2v14c0 1.1.9 2 2 2h14c1.1 0 2-.9 2-2V5c0-1.1-.9-2-2-2zM9 17H7v-7h2v7zm4 0h-2V7h2v10zm4 0h-2v-4h2v4z\"/>\n",
              "    </g>\n",
              "</svg>\n",
              "      </button>\n",
              "\n",
              "<style>\n",
              "  .colab-df-quickchart {\n",
              "      --bg-color: #E8F0FE;\n",
              "      --fill-color: #1967D2;\n",
              "      --hover-bg-color: #E2EBFA;\n",
              "      --hover-fill-color: #174EA6;\n",
              "      --disabled-fill-color: #AAA;\n",
              "      --disabled-bg-color: #DDD;\n",
              "  }\n",
              "\n",
              "  [theme=dark] .colab-df-quickchart {\n",
              "      --bg-color: #3B4455;\n",
              "      --fill-color: #D2E3FC;\n",
              "      --hover-bg-color: #434B5C;\n",
              "      --hover-fill-color: #FFFFFF;\n",
              "      --disabled-bg-color: #3B4455;\n",
              "      --disabled-fill-color: #666;\n",
              "  }\n",
              "\n",
              "  .colab-df-quickchart {\n",
              "    background-color: var(--bg-color);\n",
              "    border: none;\n",
              "    border-radius: 50%;\n",
              "    cursor: pointer;\n",
              "    display: none;\n",
              "    fill: var(--fill-color);\n",
              "    height: 32px;\n",
              "    padding: 0;\n",
              "    width: 32px;\n",
              "  }\n",
              "\n",
              "  .colab-df-quickchart:hover {\n",
              "    background-color: var(--hover-bg-color);\n",
              "    box-shadow: 0 1px 2px rgba(60, 64, 67, 0.3), 0 1px 3px 1px rgba(60, 64, 67, 0.15);\n",
              "    fill: var(--button-hover-fill-color);\n",
              "  }\n",
              "\n",
              "  .colab-df-quickchart-complete:disabled,\n",
              "  .colab-df-quickchart-complete:disabled:hover {\n",
              "    background-color: var(--disabled-bg-color);\n",
              "    fill: var(--disabled-fill-color);\n",
              "    box-shadow: none;\n",
              "  }\n",
              "\n",
              "  .colab-df-spinner {\n",
              "    border: 2px solid var(--fill-color);\n",
              "    border-color: transparent;\n",
              "    border-bottom-color: var(--fill-color);\n",
              "    animation:\n",
              "      spin 1s steps(1) infinite;\n",
              "  }\n",
              "\n",
              "  @keyframes spin {\n",
              "    0% {\n",
              "      border-color: transparent;\n",
              "      border-bottom-color: var(--fill-color);\n",
              "      border-left-color: var(--fill-color);\n",
              "    }\n",
              "    20% {\n",
              "      border-color: transparent;\n",
              "      border-left-color: var(--fill-color);\n",
              "      border-top-color: var(--fill-color);\n",
              "    }\n",
              "    30% {\n",
              "      border-color: transparent;\n",
              "      border-left-color: var(--fill-color);\n",
              "      border-top-color: var(--fill-color);\n",
              "      border-right-color: var(--fill-color);\n",
              "    }\n",
              "    40% {\n",
              "      border-color: transparent;\n",
              "      border-right-color: var(--fill-color);\n",
              "      border-top-color: var(--fill-color);\n",
              "    }\n",
              "    60% {\n",
              "      border-color: transparent;\n",
              "      border-right-color: var(--fill-color);\n",
              "    }\n",
              "    80% {\n",
              "      border-color: transparent;\n",
              "      border-right-color: var(--fill-color);\n",
              "      border-bottom-color: var(--fill-color);\n",
              "    }\n",
              "    90% {\n",
              "      border-color: transparent;\n",
              "      border-bottom-color: var(--fill-color);\n",
              "    }\n",
              "  }\n",
              "</style>\n",
              "\n",
              "      <script>\n",
              "        async function quickchart(key) {\n",
              "          const quickchartButtonEl =\n",
              "            document.querySelector('#' + key + ' button');\n",
              "          quickchartButtonEl.disabled = true;  // To prevent multiple clicks.\n",
              "          quickchartButtonEl.classList.add('colab-df-spinner');\n",
              "          try {\n",
              "            const charts = await google.colab.kernel.invokeFunction(\n",
              "                'suggestCharts', [key], {});\n",
              "          } catch (error) {\n",
              "            console.error('Error during call to suggestCharts:', error);\n",
              "          }\n",
              "          quickchartButtonEl.classList.remove('colab-df-spinner');\n",
              "          quickchartButtonEl.classList.add('colab-df-quickchart-complete');\n",
              "        }\n",
              "        (() => {\n",
              "          let quickchartButtonEl =\n",
              "            document.querySelector('#df-3349001d-cdef-4edf-a28c-2547cbacbbe8 button');\n",
              "          quickchartButtonEl.style.display =\n",
              "            google.colab.kernel.accessAllowed ? 'block' : 'none';\n",
              "        })();\n",
              "      </script>\n",
              "    </div>\n",
              "\n",
              "    </div>\n",
              "  </div>\n"
            ],
            "application/vnd.google.colaboratory.intrinsic+json": {
              "type": "dataframe",
              "variable_name": "df",
              "summary": "{\n  \"name\": \"df\",\n  \"rows\": 1198,\n  \"fields\": [\n    {\n      \"column\": \"path\",\n      \"properties\": {\n        \"dtype\": \"string\",\n        \"num_unique_values\": 1198,\n        \"samples\": [\n          \"crohme2019/test/UN19_1005_em_61.inkml\",\n          \"crohme2019/test/UN19wb_1114_em_1083.inkml\",\n          \"crohme2019/test/UN19wb_1118_em_1142.inkml\"\n        ],\n        \"semantic_type\": \"\",\n        \"description\": \"\"\n      }\n    },\n    {\n      \"column\": \"label\",\n      \"properties\": {\n        \"dtype\": \"string\",\n        \"num_unique_values\": 1192,\n        \"samples\": [\n          \"p Right 2 Sup - Right p NoRel - Below 1 Right + Right p NoRel - Right 1 Right ) NoRel (\",\n          \"x Right \\\\rightarrow Right a Right x Right + Right b\",\n          \"\\\\sin Sup 2 NoRel \\\\theta Right \\\\leq Right 1\"\n        ],\n        \"semantic_type\": \"\",\n        \"description\": \"\"\n      }\n    }\n  ]\n}"
            }
          },
          "metadata": {},
          "execution_count": 62
        }
      ],
      "source": [
        "paths = [\n",
        "    \"dataset/crohme2019_train.txt\",\n",
        "    \"dataset/crohme2019_test.txt\",\n",
        "    \"dataset/crohme2019_valid.txt\",\n",
        "]\n",
        "\n",
        "df = pd.read_csv(paths[1], sep=\"\\t\", header=None, names=[\"path\", \"label\"]).dropna().astype(str)\n",
        "\n",
        "df.head()"
      ]
    },
    {
      "cell_type": "code",
      "execution_count": 63,
      "metadata": {
        "colab": {
          "base_uri": "https://localhost:8080/"
        },
        "id": "W5WhCEyuGomI",
        "outputId": "4278f2ae-5874-4c0e-ddb1-f2b230c5c39f"
      },
      "outputs": [
        {
          "output_type": "execute_result",
          "data": {
            "text/plain": [
              "108"
            ]
          },
          "metadata": {},
          "execution_count": 63
        }
      ],
      "source": [
        "def get_unique_chars(paths) -> set:\n",
        "    res = set()\n",
        "    for i in df['label'].apply(lambda x: x.strip().split()):\n",
        "        res.update(i)\n",
        "    return res\n",
        "\n",
        "len(get_unique_chars(paths[0]))"
      ]
    },
    {
      "cell_type": "code",
      "execution_count": 64,
      "metadata": {
        "colab": {
          "base_uri": "https://localhost:8080/"
        },
        "collapsed": true,
        "id": "AODbcsNyGomI",
        "outputId": "6d5e4387-1385-4823-c2ad-de4211f8592a"
      },
      "outputs": [
        {
          "output_type": "execute_result",
          "data": {
            "text/plain": [
              "{'!',\n",
              " '(',\n",
              " ')',\n",
              " '+',\n",
              " '-',\n",
              " '.',\n",
              " '/',\n",
              " '0',\n",
              " '1',\n",
              " '2',\n",
              " '3',\n",
              " '4',\n",
              " '5',\n",
              " '6',\n",
              " '7',\n",
              " '8',\n",
              " '9',\n",
              " '=',\n",
              " 'A',\n",
              " 'Above',\n",
              " 'B',\n",
              " 'Below',\n",
              " 'C',\n",
              " 'COMMA',\n",
              " 'E',\n",
              " 'F',\n",
              " 'G',\n",
              " 'H',\n",
              " 'I',\n",
              " 'Inside',\n",
              " 'L',\n",
              " 'M',\n",
              " 'N',\n",
              " 'NoRel',\n",
              " 'P',\n",
              " 'R',\n",
              " 'Right',\n",
              " 'S',\n",
              " 'Sub',\n",
              " 'Sup',\n",
              " 'T',\n",
              " 'V',\n",
              " 'X',\n",
              " 'Y',\n",
              " '[',\n",
              " '\\\\Delta',\n",
              " '\\\\alpha',\n",
              " '\\\\beta',\n",
              " '\\\\cos',\n",
              " '\\\\div',\n",
              " '\\\\exists',\n",
              " '\\\\forall',\n",
              " '\\\\gamma',\n",
              " '\\\\geq',\n",
              " '\\\\gt',\n",
              " '\\\\in',\n",
              " '\\\\infty',\n",
              " '\\\\int',\n",
              " '\\\\lambda',\n",
              " '\\\\ldots',\n",
              " '\\\\leq',\n",
              " '\\\\lim',\n",
              " '\\\\log',\n",
              " '\\\\lt',\n",
              " '\\\\mu',\n",
              " '\\\\neq',\n",
              " '\\\\phi',\n",
              " '\\\\pi',\n",
              " '\\\\pm',\n",
              " '\\\\prime',\n",
              " '\\\\rightarrow',\n",
              " '\\\\sigma',\n",
              " '\\\\sin',\n",
              " '\\\\sqrt',\n",
              " '\\\\sum',\n",
              " '\\\\tan',\n",
              " '\\\\theta',\n",
              " '\\\\times',\n",
              " '\\\\{',\n",
              " '\\\\}',\n",
              " ']',\n",
              " 'a',\n",
              " 'b',\n",
              " 'c',\n",
              " 'd',\n",
              " 'e',\n",
              " 'f',\n",
              " 'g',\n",
              " 'h',\n",
              " 'i',\n",
              " 'j',\n",
              " 'k',\n",
              " 'l',\n",
              " 'm',\n",
              " 'n',\n",
              " 'o',\n",
              " 'p',\n",
              " 'q',\n",
              " 'r',\n",
              " 's',\n",
              " 't',\n",
              " 'u',\n",
              " 'v',\n",
              " 'w',\n",
              " 'x',\n",
              " 'y',\n",
              " 'z',\n",
              " '|'}"
            ]
          },
          "metadata": {},
          "execution_count": 64
        }
      ],
      "source": [
        "unique_chars = get_unique_chars(paths[0])\n",
        "unique_chars"
      ]
    },
    {
      "cell_type": "markdown",
      "metadata": {
        "id": "9NoRw8ZUGomI"
      },
      "source": [
        "The vocabulary should be sorted by ascii table. The first character (index 0) must be blank (`''`)."
      ]
    },
    {
      "cell_type": "code",
      "execution_count": 65,
      "metadata": {
        "id": "MSVwOtmpGomI"
      },
      "outputs": [],
      "source": [
        "def chr2idx(unique_chars: set) -> dict:\n",
        "    unique_chars.add('')\n",
        "    return {char: idx for idx, char in enumerate(sorted(unique_chars))}\n",
        "\n",
        "vocab = chr2idx(get_unique_chars(paths[0]))\n",
        "\n",
        "assert vocab[\"\"] == 0\n",
        "assert vocab[\"|\"] == 108\n",
        "assert vocab[\"\\\\pi\"] == 68\n",
        "assert vocab[\"\\\\exists\"] == 51\n",
        "assert len(vocab) == 109"
      ]
    },
    {
      "cell_type": "code",
      "execution_count": 66,
      "metadata": {
        "id": "omyRuj9FGomJ"
      },
      "outputs": [],
      "source": [
        "class Vocab:\n",
        "    \"\"\"\n",
        "\n",
        "    Attributes:\n",
        "        paths (list): A list of file paths to the annotation files.\n",
        "        char2idx (dict): A dictionary mapping characters to their corresponding indices.  This is the primary vocabulary.\n",
        "        idx2char (dict): A reverse mapping from indices to characters, facilitating decoding.\n",
        "\n",
        "    Methods:\n",
        "        build_vocab(): Builds the vocabulary from the specified annotation files, sorting characters lexicographically and adding a blank character.\n",
        "        get_vocab(): Returns the character-to-index vocabulary.\n",
        "        save_vocab(path): Saves the vocabulary to a JSON file.\n",
        "        encode(tokens): Converts a list of tokens (characters) into a list of their corresponding indices.\n",
        "        decode(ids): Converts a list of indices back into a list of tokens (characters).\n",
        "    \"\"\"\n",
        "    def __init__(self, vocab_file=None):\n",
        "        self.char2idx = {}\n",
        "        if vocab_file is not None:\n",
        "            self.char2idx = json.load(open(vocab_file))\n",
        "        self.idx2char = {v: k for k, v in self.char2idx.items()}\n",
        "\n",
        "    def build_vocab(self, annotations) -> None:\n",
        "        # TODO: build vocab from all annotation files\n",
        "        unique_chars = set()\n",
        "\n",
        "        # Read all annotation files and collect unique characters\n",
        "        for annotation_file in annotations:\n",
        "            df = pd.read_csv(annotation_file, sep=\"\\t\", header=None, names=[\"path\", \"label\"]).dropna().astype(str)\n",
        "            for label in df['label']:\n",
        "                tokens = label.strip().split()\n",
        "                unique_chars.update(tokens)\n",
        "\n",
        "        # Add blank character and sort\n",
        "        unique_chars.add('')\n",
        "        vocab = {char: idx for idx, char in enumerate(sorted(unique_chars))}\n",
        "\n",
        "        # assign vocab to the class\n",
        "        self.char2idx = vocab\n",
        "        self.idx2char = {v: k for k, v in self.char2idx.items()}\n",
        "\n",
        "    def get_vocab(self) -> dict:  # getter\n",
        "        return self.char2idx\n",
        "\n",
        "    def save_vocab(self, path: str) -> None:  # save vocab to json file\n",
        "        with open(path, 'w') as f:\n",
        "            json.dump(self.char2idx, f)\n",
        "\n",
        "    def encode(self, tokens):\n",
        "        return [self.char2idx[token] for token in tokens]\n",
        "\n",
        "    def decode(self, ids):\n",
        "        return [self.idx2char[id] for id in ids]\n"
      ]
    },
    {
      "cell_type": "code",
      "execution_count": 67,
      "metadata": {
        "id": "_LyrowJQGomJ"
      },
      "outputs": [],
      "source": [
        "# CHECKPOINT: build vocab from annotations\n",
        "annotations = [\n",
        "    \"dataset/crohme2019_train.txt\",\n",
        "    \"dataset/crohme2019_test.txt\",\n",
        "    \"dataset/crohme2019_valid.txt\",\n",
        "]\n",
        "\n",
        "vocab = Vocab()\n",
        "vocab.build_vocab(annotations)\n",
        "vocab.save_vocab('vocab.json')"
      ]
    },
    {
      "cell_type": "code",
      "execution_count": 68,
      "metadata": {
        "id": "2TIxQUHWGomJ"
      },
      "outputs": [],
      "source": [
        "# TEST: vocab class loaded from prebuilt JSON\n",
        "vocab = Vocab('vocab.json')\n",
        "\n",
        "# encoding a sequence\n",
        "input = '- Right \\\\sqrt Inside 2'.split()\n",
        "\n",
        "assert vocab.encode(input) == [5, 37, 74, 30, 10]\n",
        "assert vocab.decode(vocab.encode(input)) == input"
      ]
    },
    {
      "cell_type": "markdown",
      "metadata": {
        "id": "Uw6QUu6EGomJ"
      },
      "source": [
        "## Task 2: Build Dataset\n",
        "\n",
        "In this task, we will build a dataset class that will be used to load the dataset files _(train, valid, and test)_.\n",
        "\n",
        "The dataset class will also be used to preprocess the data by converting the characters in the data to integers using the vocabulary.\n",
        "\n",
        "> _Before going to this task, it is **highly recommended** to read this [Tutorial on creating Custom Dataset](https://pytorch.org/tutorials/beginner/basics/data_tutorial.html#creating-a-custom-dataset-for-your-files) with PyTorch._\n",
        ">\n",
        "> _You should have basic understanding of required methods in the Dataset class such as `__init__`, `__len__`, and `__getitem__`._\n",
        "\n",
        "\n",
        "***Input***: Dataset class should take the following arguments:.\n",
        "\n",
        "- `annotation`: the path to the dataset annotation *(`.txt`)*.\n",
        "- `root_dir`: the root directory of the dataset file.\n",
        "- `vocab`: the vocabulary.\n",
        "\n",
        "***Output***: the dataset class.\n",
        "\n",
        "> *Note: You can adjust the Dataset class base on your references.*\n"
      ]
    },
    {
      "cell_type": "markdown",
      "metadata": {
        "id": "PomjANK6GomJ"
      },
      "source": [
        "### Dataflow\n",
        "Below is a typical dataflow to train a model.\n",
        "```mermaid\n",
        "flowchart LR\n",
        "    A[Raw Data] --> |parse| B[Cleaned Data]\n",
        "    B --> |feature engineering| C[Dataset]\n",
        "    C --> |package| D[DataLoader]\n",
        "    D --> |load| E[Model]\n",
        "    E --> |predict| F[Output]\n",
        "    F --> |calculate| G[Loss]\n",
        "    G --> |backpropagate| E\n",
        "```"
      ]
    },
    {
      "cell_type": "markdown",
      "metadata": {
        "id": "r9zozRQ8GomJ"
      },
      "source": [
        "### Handling Inkml files\n",
        "\n",
        "We have an inkml file: `crohme2019/test/UN19_1041_em_597.inkml`\n",
        "\n",
        "Its label is `- Right \\sqrt Inside 2`\n",
        "\n",
        "Target would be: `[5, 37, 74, 30, 10]`, where the index here is the index of tokens (from a vocabulary)\n",
        "\n",
        "We provided you with class `Inkml` to handle the parsing and processing of the inkml files. The main method you will use is `getTraces()` which returns the traces of the inkml file.\n",
        "\n",
        "> _Inspect this class and understand how you should be working with this type of data._\n",
        "\n",
        "```python"
      ]
    },
    {
      "cell_type": "code",
      "execution_count": 69,
      "metadata": {
        "id": "veRit1XW4MMz"
      },
      "outputs": [],
      "source": [
        "import xml.etree.ElementTree as ET\n",
        "import numpy as np\n",
        "import matplotlib.pyplot as plt\n",
        "from collections.abc import Sequence\n",
        "from typing import Literal, Optional, Union\n"
      ]
    },
    {
      "cell_type": "code",
      "execution_count": 70,
      "metadata": {
        "id": "hkOSwWi0GomJ"
      },
      "outputs": [],
      "source": [
        "class Segment(object):\n",
        "    \"\"\"Class to reprsent a Segment compound of strokes (id) with an id and label.\"\"\"\n",
        "\n",
        "    __slots__ = (\"id\", \"label\", \"strId\")\n",
        "\n",
        "    def __init__(self, *args):\n",
        "        if len(args) == 3:\n",
        "            self.id = args[0]\n",
        "            self.label = args[1]\n",
        "            self.strId = args[2]\n",
        "        else:\n",
        "            self.id = \"none\"\n",
        "            self.label = \"\"\n",
        "            self.strId = set([])\n",
        "\n",
        "\n",
        "class Inkml(object):\n",
        "    \"\"\"Class to represent an INKML file with strokes, segmentation and labels\"\"\"\n",
        "\n",
        "    __slots__ = (\"fileName\", \"strokes\", \"strkOrder\", \"segments\", \"truth\", \"UI\")\n",
        "\n",
        "    NS = {\n",
        "        \"ns\": \"http://www.w3.org/2003/InkML\",\n",
        "        \"xml\": \"http://www.w3.org/XML/1998/namespace\",\n",
        "    }\n",
        "\n",
        "    def __init__(self, *args):\n",
        "        self.fileName = None\n",
        "        self.strokes = {}\n",
        "        self.strkOrder = []\n",
        "        self.segments = {}\n",
        "        self.truth = \"\"\n",
        "        self.UI = \"\"\n",
        "        if len(args) == 1:\n",
        "            self.fileName = args[0]\n",
        "            self.loadFromFile()\n",
        "\n",
        "    def fixNS(self, ns, att):\n",
        "        \"\"\"Build the right tag or element name with namespace\"\"\"\n",
        "        return \"{\" + Inkml.NS[ns] + \"}\" + att\n",
        "\n",
        "    def loadFromFile(self):\n",
        "        \"\"\"load the ink from an inkml file (strokes, segments, labels)\"\"\"\n",
        "        tree = ET.parse(self.fileName)\n",
        "        # # ET.register_namespace();\n",
        "        root = tree.getroot()\n",
        "        for info in root.findall(\"ns:annotation\", namespaces=Inkml.NS):\n",
        "            if \"type\" in info.attrib:\n",
        "                if info.attrib[\"type\"] == \"truth\":\n",
        "                    self.truth = info.text.strip()\n",
        "                if info.attrib[\"type\"] == \"UI\":\n",
        "                    self.UI = info.text.strip()\n",
        "        for strk in root.findall(\"ns:trace\", namespaces=Inkml.NS):\n",
        "            self.strokes[strk.attrib[\"id\"]] = strk.text.strip()\n",
        "            self.strkOrder.append(strk.attrib[\"id\"])\n",
        "        segments = root.find(\"ns:traceGroup\", namespaces=Inkml.NS)\n",
        "        if segments is None or len(segments) == 0:\n",
        "            return\n",
        "        for seg in segments.iterfind(\"ns:traceGroup\", namespaces=Inkml.NS):\n",
        "            id = seg.attrib[self.fixNS(\"xml\", \"id\")]\n",
        "            label = seg.find(\"ns:annotation\", namespaces=Inkml.NS).text\n",
        "            strkList = set([])\n",
        "            for t in seg.findall(\"ns:traceView\", namespaces=Inkml.NS):\n",
        "                strkList.add(t.attrib[\"traceDataRef\"])\n",
        "            self.segments[id] = Segment(id, label, strkList)\n",
        "\n",
        "    def getTraces(self, height=256):\n",
        "        traces_array = [\n",
        "            np.array(\n",
        "                [p.strip().split() for p in self.strokes[id].split(\",\")], dtype=\"float\"\n",
        "            )\n",
        "            for id in self.strkOrder\n",
        "        ]\n",
        "\n",
        "        ratio = height / (\n",
        "            (\n",
        "                np.concatenate(traces_array, 0).max(0)\n",
        "                - np.concatenate(traces_array, 0).min(0)\n",
        "            )[1]\n",
        "            + 1e-6\n",
        "        )\n",
        "        return [(trace * ratio).astype(int).tolist() for trace in traces_array]\n",
        "\n",
        "    def view(self):\n",
        "        plt.figure(figsize = (16, 4))\n",
        "        plt.axis(\"off\")\n",
        "        for trace in self.getTraces():\n",
        "            trace_arr = np.array(trace)\n",
        "            plt.plot(trace_arr[:, 0], -trace_arr[:, 1])  # invert y coordinate"
      ]
    },
    {
      "cell_type": "code",
      "execution_count": 71,
      "metadata": {
        "colab": {
          "base_uri": "https://localhost:8080/",
          "height": 336
        },
        "id": "c3ofnZJ7GomJ",
        "outputId": "ea02de36-ab9f-4307-843a-1fa65d448006"
      },
      "outputs": [
        {
          "output_type": "display_data",
          "data": {
            "text/plain": [
              "<Figure size 1600x400 with 1 Axes>"
            ],
            "image/png": "[encoded data removed]"
          },
          "metadata": {}
        }
      ],
      "source": [
        "inkml_path = 'dataset/crohme2019/crohme2019/test/ISICal19_1201_em_758.inkml'\n",
        "ink = Inkml(inkml_path)\n",
        "ink.view()"
      ]
    },
    {
      "cell_type": "code",
      "execution_count": 72,
      "metadata": {
        "colab": {
          "base_uri": "https://localhost:8080/"
        },
        "id": "_EsBxMv1GomJ",
        "outputId": "cd254aa9-33f3-47c2-f0ab-d65b752edb7e"
      },
      "outputs": [
        {
          "output_type": "execute_result",
          "data": {
            "text/plain": [
              "[(81, 2), (17, 2), (34, 2), (17, 2), (59, 2)]"
            ]
          },
          "metadata": {},
          "execution_count": 72
        }
      ],
      "source": [
        "# Display shapes of first 5 traces in one file\n",
        "traces = ink.getTraces() # list of trace, each trace is a list of points\n",
        "# traces[0]\n",
        "[np.array(trace).shape for trace in ink.getTraces()][:5]"
      ]
    },
    {
      "cell_type": "markdown",
      "metadata": {
        "id": "52ybjkd4GomJ"
      },
      "source": [
        "> **REMARK**: _Some Inkml may return (x, y, t) coordinates, while most of them return (x, y) coordinates. Make sure to handle this inconsistency in your implementation._"
      ]
    },
    {
      "cell_type": "markdown",
      "metadata": {
        "id": "G9dQJ7TTGomJ"
      },
      "source": [
        "### Build Dataset\n",
        "\n",
        "For calculating the Connectionist Temporal Classification (CTC) loss, read the [expected output](https://pytorch.org/docs/stable/generated/torch.nn.CTCLoss.html) of this loss function from PyTorch.\n",
        "\n",
        "> _Hint: focus on the shapes and the expected variables. (see code example for calculating loss)_\n",
        "> ```python\n",
        "> loss = ctc_loss(input_tensor, target_tensor, input_lengths, target_lengths)\n",
        "> ```\n",
        "\n",
        "**Base on the observation, how can we build a dataset class from the dataset files?**\n",
        "\n",
        "> Hints:\n",
        ">   - *Understand the big picture. (Dataflow)*\n",
        ">   - *What informations needed to calculate our Loss?*\n",
        ">   - *What should be returned in the `__getitem__` method?*\n",
        ">   - *The outputs should be of Tensor type*\n",
        "   \n",
        "***References from pytorch [tutorials](https://pytorch.org/tutorials/beginner/data_loading_tutorial.html)***\n",
        "\n",
        "`torch.utils.data.Dataset` is an abstract class representing a dataset. Your custom dataset should inherit `Dataset` and override the following methods:\n",
        "\n",
        "- `__len__` so that `len(dataset)` returns the size of the dataset.\n",
        "\n",
        "- `__getitem__` to support the indexing such that `dataset[i]` can be used to get ith sample.\n"
      ]
    },
    {
      "cell_type": "markdown",
      "metadata": {
        "id": "3ugfZokVGomK"
      },
      "source": [
        "### Feature representation\n",
        "\n",
        "In this task, we will convert the strokes into feature representations that can be used by the model.\n",
        "\n",
        "Initially, the `.getTraces()` method returns list of strokes, where each stroke is a list of (x, y) coordinates. Intuitively, we can use those coordinates as features. But if directly using the coordinates as features, the model will have a hard time learning the patterns.\n",
        "\n",
        "Instead, we can calculate the difference *(∆d)* between consecutive coordinates as features. This way, the model can learn the patterns more easily.\n",
        "\n",
        "$\\Delta_x = x_{i+1} - x_i$ and $\\Delta_y = y_{i+1} - y_i$\n",
        "\n",
        "The feature would then be normalized as\n",
        "\n",
        "($\\frac{\\Delta_x}{d}$ , $\\frac{\\Delta_y} {d}$), where $d = \\sqrt{\\Delta_x^2 + \\Delta_y^2}$\n",
        "\n",
        "**Pen-up and Pen-down**\n",
        "\n",
        "In the dataset, each stroke is separated by a pen-up event. We can use this information to separate the strokes.\n",
        "\n",
        "1. The pen is lifted from the paper (connecting the end of a stroke to the start of a stroke): $pen\\_up = 1$\n",
        "2. The pen is on the paper: $pen\\_up = 0$\n",
        "\n",
        "Then, our feature representation would be:\n",
        "($\\frac{\\Delta_x}{d}$ , $\\frac{\\Delta_y} {d}$, $d$, $pen\\_up$)\n",
        "\n",
        "\n",
        "```\n",
        "point 1: (x1, y1)\n",
        "point 2: (x2, y2)\n",
        "point 3: (x3, y3) <--- end of stroke #1\n",
        "point 4: (x4, y4) <--- start of stroke #2\n",
        "...\n",
        "point n: (xn, yn)\n",
        "```\n",
        "\n",
        "The feature representation will be:\n",
        "\n",
        "```\n",
        "f1 = ((x2 - x1) / d, (y2 - y1)/d, d, 0)\n",
        "f2 = ((x3 - x2) / d, (y3 - y2)/d, d, 0)\n",
        "f3 = ((x4 - x3) / d, (y4 - y3)/d, d, 1) <-- pen up\n",
        "...\n",
        "fn-1 = ((xn - xn-1) / d, (yn - yn-1)/d, d, 0)\n",
        "```"
      ]
    },
    {
      "cell_type": "markdown",
      "metadata": {
        "id": "_LJH9zHvGomK"
      },
      "source": [
        "#### **CHECK LIST**\n",
        "\n",
        "For each data sample, we will do the following steps\n",
        "- Combine all the strokes into a single stroke (N, 2)\n",
        "- Compute first order differences of x and y coordinates\n",
        "- Compute Euclidean distances between consecutive points\n",
        "- Remove any zero length consecutive points\n",
        "- Normalize the x and y coordinates by Euclidean distance\n",
        "- Add feature pen-up/pen-down\n",
        "\n",
        "> *Features of transformed data: (delta traces, distance, pen_up_down)*\n",
        "\n",
        "Label\n",
        "- Define label (list of indices of the words)\n",
        "\n",
        "Finally, we will convert the data and label to PyTorch tensors.\n",
        "- Convert data and label to PyTorch tensors"
      ]
    },
    {
      "cell_type": "code",
      "execution_count": 73,
      "metadata": {
        "id": "Lyx5HT98GomK"
      },
      "outputs": [],
      "source": [
        "class InkmlDataset(Dataset):\n",
        "    def __init__(self, annotation, root_dir, vocab):\n",
        "        \"\"\"\n",
        "        Arguments:\n",
        "            annotation (string): annotation file txt.\n",
        "            root_dir (string): directory holds the dataset.\n",
        "            vocab (set): of vocab.\n",
        "        \"\"\"\n",
        "        self.annotation = annotation\n",
        "        self.root_dir = root_dir\n",
        "        self.vocab = vocab\n",
        "\n",
        "        # load annotations\n",
        "        self.inks = []\n",
        "        self.labels = []\n",
        "\n",
        "        # your code for create self.inks and self.labels from the annotation file\n",
        "        df = pd.read_csv(annotation, sep=\"\\t\", header=None, names=[\"path\", \"label\"]).dropna().astype(str)\n",
        "\n",
        "        for _, row in df.iterrows():\n",
        "            # The annotation files contain paths like 'crohme2019/train/...'\n",
        "            # But the actual structure is 'dataset/crohme2019/crohme2019/train/...'\n",
        "            # So we need to add an extra 'crohme2019' level\n",
        "            path_parts = row['path'].split('/')\n",
        "            if len(path_parts) >= 2 and path_parts[0] == 'crohme2019':\n",
        "                # Insert an extra 'crohme2019' level\n",
        "                corrected_path = os.path.join(path_parts[0], 'crohme2019', *path_parts[1:])\n",
        "            else:\n",
        "                corrected_path = row['path']\n",
        "\n",
        "            inkml_path = os.path.join(root_dir, corrected_path)\n",
        "            self.inks.append(inkml_path)\n",
        "\n",
        "            # Tokenize label and encode using vocabulary\n",
        "            tokens = row['label'].strip().split()\n",
        "            encoded_label = self.vocab.encode(tokens)\n",
        "            self.labels.append(encoded_label)\n",
        "\n",
        "    def __len__(self):\n",
        "        \"\"\"This code should return the number of samples in the dataset\"\"\"\n",
        "        return len(self.labels)\n",
        "\n",
        "    def __getitem__(self, idx):\n",
        "        \"\"\"This code should return the idx-th sample in the dataset\"\"\"\n",
        "\n",
        "        ink_path = self.inks[idx]\n",
        "        label = self.labels[idx]\n",
        "\n",
        "        # TODO: feature engineering and return the correct data.\n",
        "        # if you want to check your implementation of feature engineering,\n",
        "        # write the feature extraction function\n",
        "\n",
        "        # Load inkml file and extract features\n",
        "        ink = Inkml(ink_path)\n",
        "        traces = ink.getTraces()\n",
        "\n",
        "        # Handle case where traces might have different dimensions\n",
        "        processed_traces = []\n",
        "        for trace in traces:\n",
        "            trace_array = np.array(trace)\n",
        "            if trace_array.shape[1] > 2:  # Handle (x, y, t) format\n",
        "                trace_array = trace_array[:, :2]  # Take only x, y coordinates\n",
        "            processed_traces.append(trace_array.tolist())\n",
        "\n",
        "        features = feature_extraction(processed_traces)\n",
        "\n",
        "        # Convert to tensors\n",
        "        input_tensor = torch.tensor(features, dtype=torch.float32)\n",
        "        target_tensor = torch.tensor(label, dtype=torch.long)\n",
        "        input_len = torch.tensor(len(features), dtype=torch.long)\n",
        "        label_len = torch.tensor(len(label), dtype=torch.long)\n",
        "\n",
        "        return input_tensor, target_tensor, input_len, label_len"
      ]
    },
    {
      "cell_type": "code",
      "execution_count": 74,
      "metadata": {
        "colab": {
          "base_uri": "https://localhost:8080/"
        },
        "collapsed": true,
        "id": "zAKfspUUycnN",
        "outputId": "08773f2e-4438-43f3-fb0e-115558fc9897"
      },
      "outputs": [
        {
          "output_type": "execute_result",
          "data": {
            "text/plain": [
              "(45,\n",
              " [[79, 378],\n",
              "  [79, 378],\n",
              "  [79, 376],\n",
              "  [81, 375],\n",
              "  [85, 375],\n",
              "  [88, 373],\n",
              "  [92, 371],\n",
              "  [97, 369],\n",
              "  [101, 366],\n",
              "  [106, 364],\n",
              "  [110, 362],\n",
              "  [115, 360],\n",
              "  [119, 359],\n",
              "  [122, 357],\n",
              "  [124, 355],\n",
              "  [127, 355],\n",
              "  [129, 353],\n",
              "  [131, 351],\n",
              "  [133, 350],\n",
              "  [133, 348],\n",
              "  [135, 346],\n",
              "  [135, 344],\n",
              "  [135, 343],\n",
              "  [135, 341],\n",
              "  [133, 339],\n",
              "  [131, 337],\n",
              "  [129, 337],\n",
              "  [127, 337],\n",
              "  [126, 337],\n",
              "  [122, 335],\n",
              "  [120, 335],\n",
              "  [119, 335],\n",
              "  [117, 335],\n",
              "  [115, 335],\n",
              "  [113, 337],\n",
              "  [111, 337],\n",
              "  [110, 337],\n",
              "  [108, 339],\n",
              "  [106, 339],\n",
              "  [103, 341],\n",
              "  [101, 343],\n",
              "  [99, 344],\n",
              "  [97, 346],\n",
              "  [95, 348],\n",
              "  [94, 350],\n",
              "  [92, 353],\n",
              "  [90, 355],\n",
              "  [88, 357],\n",
              "  [88, 360],\n",
              "  [87, 362],\n",
              "  [87, 364],\n",
              "  [85, 366],\n",
              "  [85, 367],\n",
              "  [83, 369],\n",
              "  [83, 373],\n",
              "  [83, 375],\n",
              "  [81, 380],\n",
              "  [81, 382],\n",
              "  [81, 383],\n",
              "  [83, 385]])"
            ]
          },
          "metadata": {},
          "execution_count": 74
        }
      ],
      "source": [
        "len(traces), traces[0][:60]"
      ]
    },
    {
      "cell_type": "code",
      "execution_count": 75,
      "metadata": {
        "colab": {
          "base_uri": "https://localhost:8080/",
          "height": 336
        },
        "id": "cCl7Bzb_u0n0",
        "outputId": "77ffa458-15bc-42ab-e585-906db5a9d95c"
      },
      "outputs": [
        {
          "output_type": "display_data",
          "data": {
            "text/plain": [
              "<Figure size 1600x400 with 1 Axes>"
            ],
            "image/png": "[encoded data removed]"
          },
          "metadata": {}
        }
      ],
      "source": [
        "def feature_extraction(traces):\n",
        "    # get the length of each strokes\n",
        "    trace_lengths = [len(trace) for trace in traces]\n",
        "    # total number of points\n",
        "    n_points = sum(trace_lengths)\n",
        "    # feature length = n_points - 1\n",
        "    feature_length = n_points - 1\n",
        "\n",
        "    # 1) pen-up feature\n",
        "\n",
        "    # cumulative sum of the length\n",
        "    cumsum_trace_lengths = np.cumsum(trace_lengths)\n",
        "    # --> index of pen up\n",
        "    pen_up_index = cumsum_trace_lengths - 1\n",
        "\n",
        "    # initialize pen-up feature by a vector of all zeros\n",
        "    pen_up_feature = np.zeros(feature_length)\n",
        "    # assign with numpy indexing\n",
        "    pen_up_feature[pen_up_index[:-1]] = 1\n",
        "\n",
        "    # 2) delta_x, delta_y\n",
        "    # combine all the strokes into a single stroke (N, 2)\n",
        "    combined_trace = np.concatenate(traces)\n",
        "    # compute delta_x, delta_y\n",
        "    deltas = combined_trace[1:] - combined_trace[:-1] # (delta x, delta y)\n",
        "\n",
        "    # 3) compute Euclidean distances between consecutive points\n",
        "    deltas_squared = deltas ** 2    # ( delta_x ^ 2, delta_y ^ 2)\n",
        "    d = np.sqrt(np.sum(deltas_squared, axis = 1)) # d = sqrt( delta_x ^ 2 + delta_y ^ 2),  d.shape = (3444,)\n",
        "\n",
        "    # 4) merge all the features (delta_x, delta_y, d, pen_up)\n",
        "    # shape: (3444, 2), (3444,), (3444,)\n",
        "    # shape: (3444, 2), (3444,1), (3444,1)\n",
        "    # pytorch: create new axis -> unsqueeze(dim = x)\n",
        "    feature = np.concatenate([deltas, d[:, np.newaxis], pen_up_feature[:, np.newaxis]], axis=1)\n",
        "\n",
        "    # 5) remove any zero length consecutive points\n",
        "    # index -> np.where(feature[:, 2]  != 0)\n",
        "    feature_without_zeros = feature[np.where(feature[:, 2]  != 0)]\n",
        "\n",
        "    # 6) normalize the delta_x and delta_y by Euclidean distance d\n",
        "    #  (delta_x, delta_y, d, pen_up) ->  (delta_x/d, delta_y/d, d, pen_up)\n",
        "    feature_without_zeros[:, :2] /= feature_without_zeros[:, 2][:, np.newaxis] # broadcasting (3444, 2) / (3444, 1)\n",
        "    feature = feature_without_zeros\n",
        "\n",
        "    return feature\n",
        "\n",
        "\n",
        "# test code for feature extraction\n",
        "inkml_path = 'dataset/crohme2019/crohme2019/valid/18_em_0.inkml'\n",
        "ink = Inkml(inkml_path)\n",
        "ink.view()\n",
        "\n",
        "traces = ink.getTraces()\n",
        "feature = feature_extraction(traces)\n",
        "\n",
        "\n",
        "import numpy.testing as npt\n",
        "assert feature.shape == (614, 4)\n",
        "npt.assert_allclose(feature[:, :3].mean(axis=0), np.array([ 0.17677799,  0.29519369, 11.35540311]))\n",
        "npt.assert_allclose(feature[:,:3].var(axis=0), np.array([3.75390418e-01, 5.06219812e-01, 4.19017361e+02])\n",
        ")\n"
      ]
    },
    {
      "cell_type": "code",
      "execution_count": 76,
      "metadata": {
        "colab": {
          "base_uri": "https://localhost:8080/"
        },
        "id": "2ptlOv0kGRpM",
        "outputId": "fe1b66ad-8221-4090-90ea-c3b5b6d6694f"
      },
      "outputs": [
        {
          "output_type": "execute_result",
          "data": {
            "text/plain": [
              "torch.Size([10])"
            ]
          },
          "metadata": {},
          "execution_count": 76
        }
      ],
      "source": [
        "# example with squeeze and unsqueeze\n",
        "\n",
        "import torch\n",
        "\n",
        "a = torch.randn(10)\n",
        "a.shape\n",
        "a.unsqueeze(0).unsqueeze(0).squeeze(0).squeeze(0).shape"
      ]
    },
    {
      "cell_type": "markdown",
      "metadata": {
        "id": "O3GGK6yRGomK"
      },
      "source": [
        "## Task 3: Build Lightning Data Module via Dataloader\n",
        "\n",
        "Revise [this tutorial](https://pytorch.org/tutorials/beginner/basics/data_tutorial.html#preparing-your-data-for-training-with-dataloaders) to see how you can prepare your data for training with DataLoader.\n",
        "\n",
        "Then refer to this [documentation](https://pytorch.org/docs/stable/data.html#loading-batched-and-non-batched-data) to understand how DataLoader in PyTorch loads Batched or Non-Batched data.\n",
        "\n",
        "> **TASK:** Write the dataloader with custom collate function to pad the input and target sequence\n",
        "\n",
        "For a better understanding of the importance of handling variable-length sequences in deep learning models, it is crucial to format and pad the data appropriately to ensure consistency during training. Learn more about this topic [here](https://plainenglish.io/blog/understanding-collate-fn-in-pytorch-f9d1742647d3).\n",
        "\n",
        "> _**Hint 1**: use `torch.nn.utils.rnn.pad_sequence` to pad the input and target sequences. Read more about this function [here](https://pytorch.org/docs/stable/generated/torch.nn.utils.rnn.pad_sequence.html)._\n",
        "\n",
        "> _**Hint 2**: read Example 3 from this [tutorial](https://www.programiz.com/python-programming/methods/built-in/zip) to unpack data using `zip()`._"
      ]
    },
    {
      "cell_type": "code",
      "execution_count": 77,
      "metadata": {
        "id": "MsUUX0j0GomK"
      },
      "outputs": [],
      "source": [
        "def collate_fn(batch):\n",
        "    \"\"\"Create batch\"\"\"\n",
        "    # TODO: your custom colate function here\n",
        "\n",
        "    # Unpack the batch\n",
        "    input_tensors, target_tensors, input_lens, label_lens = zip(*batch)\n",
        "\n",
        "    # Pad sequences\n",
        "    features = pad_sequence(input_tensors, batch_first=True, padding_value=0.0)\n",
        "    labels = pad_sequence(target_tensors, batch_first=True, padding_value=0)\n",
        "\n",
        "    # Convert lengths to tensors\n",
        "    input_lens = torch.stack(input_lens)\n",
        "    label_lens = torch.stack(label_lens)\n",
        "\n",
        "    # features, labels, input_lens, label_lens should be torch.tensor\n",
        "    return features, labels, input_lens, label_lens"
      ]
    },
    {
      "cell_type": "code",
      "execution_count": 78,
      "metadata": {
        "colab": {
          "base_uri": "https://localhost:8080/"
        },
        "id": "Z-eUDB9mGomK",
        "outputId": "87cf2f6d-af8d-4083-f41d-2706d7e69c09"
      },
      "outputs": [
        {
          "output_type": "stream",
          "name": "stdout",
          "text": [
            "Features shape: torch.Size([2, 393, 4])\n",
            "Labels shape: torch.Size([2, 25])\n",
            "Input lengths: tensor([363, 393])\n",
            "Label lengths: tensor([21, 25])\n"
          ]
        }
      ],
      "source": [
        "# TODO: initialize a dataset\n",
        "# You need to provide the path to an annotation file (e.g., the training annotation)\n",
        "# and the root directory of the dataset, and the vocabulary object.\n",
        "# Assuming you want to test with the training dataset and the vocab created earlier.\n",
        "vocab = Vocab('vocab.json')  # Load the vocabulary that was created earlier\n",
        "dataset = InkmlDataset(annotation='dataset/crohme2019_train.txt', root_dir='dataset', vocab=vocab)\n",
        "\n",
        "features, labels, input_lens, label_lens = collate_fn([dataset[0], dataset[1]])\n",
        "\n",
        "import numpy.testing as npt\n",
        "\n",
        "assert type(input_lens) == torch.Tensor\n",
        "assert type(label_lens) == torch.Tensor\n",
        "\n",
        "print(f\"Features shape: {features.shape}\")\n",
        "print(f\"Labels shape: {labels.shape}\")\n",
        "print(f\"Input lengths: {input_lens}\")\n",
        "print(f\"Label lengths: {label_lens}\")"
      ]
    },
    {
      "cell_type": "markdown",
      "metadata": {
        "id": "HqdtEV0FGomK"
      },
      "source": [
        "> **TASK:** implement InkmlDataset_PL Lightning Datamodule"
      ]
    },
    {
      "cell_type": "code",
      "execution_count": 79,
      "metadata": {
        "id": "7lVgTU25GomK"
      },
      "outputs": [],
      "source": [
        "\n",
        "class InkmlDataset_PL(pl.LightningDataModule):\n",
        "    \"\"\"\n",
        "    PyTorch Lightning data module for handling the INKML dataset.\n",
        "    \"\"\"\n",
        "\n",
        "    def __init__(\n",
        "        self,\n",
        "        batch_size: int = 10,\n",
        "        workers: int = 5,\n",
        "        train_data: str = \"dataset/crohme2019_train.txt\",\n",
        "        val_data: str = \"dataset/crohme2019_valid.txt\",\n",
        "        test_data: str = \"dataset/crohme2019_test.txt\",\n",
        "        root_dir: str = \"dataset\",\n",
        "        vocab_file='vocab.json',\n",
        "    ):\n",
        "        super().__init__()\n",
        "        self.batch_size = batch_size\n",
        "        self.workers = workers\n",
        "        self.train_data = train_data\n",
        "        self.val_data = val_data\n",
        "        self.test_data = test_data\n",
        "        self.root_dir = root_dir\n",
        "        self.vocab = Vocab(vocab_file)\n",
        "\n",
        "    def setup(self, stage=None):\n",
        "        if stage == \"fit\" or stage is None:\n",
        "            self.train_dataset = InkmlDataset(self.train_data, root_dir=self.root_dir, vocab=self.vocab)\n",
        "        if stage == \"validate\" or stage == \"fit\" or stage is None:\n",
        "            self.val_dataset = InkmlDataset(self.val_data, root_dir=self.root_dir, vocab=self.vocab)\n",
        "        if stage == \"test\" or stage is None:\n",
        "            self.test_dataset = InkmlDataset(self.test_data, root_dir=self.root_dir, vocab=self.vocab)\n",
        "\n",
        "    def prepare_data(self):\n",
        "        # This method is called only once and on 1 GPU\n",
        "        # Download data, tokenize, etc.\n",
        "        # Don't assign state here (like self.x = y)\n",
        "        pass\n",
        "\n",
        "    def custom_collate_fn(self, data):\n",
        "        # TODO: provide your custom collate function here.\n",
        "\n",
        "        # Unpack the batch\n",
        "        input_tensors, target_tensors, input_lens, label_lens = zip(*data)\n",
        "\n",
        "        # Pad sequences\n",
        "        padded_traces = pad_sequence(input_tensors, batch_first=True, padding_value=0.0)\n",
        "        padded_labels = pad_sequence(target_tensors, batch_first=True, padding_value=0)\n",
        "\n",
        "        # Convert lengths to tensors\n",
        "        len_traces = torch.stack(input_lens)\n",
        "        len_labels = torch.stack(label_lens)\n",
        "\n",
        "        return padded_traces, padded_labels, len_traces, len_labels\n",
        "\n",
        "\n",
        "    def train_dataloader(self):\n",
        "        if not hasattr(self, 'train_dataset'):\n",
        "            self.setup('fit')\n",
        "        return DataLoader(\n",
        "            self.train_dataset,\n",
        "            batch_size=self.batch_size,\n",
        "            num_workers=self.workers,\n",
        "            collate_fn=self.custom_collate_fn,\n",
        "            shuffle = True,\n",
        "        )\n",
        "\n",
        "    def val_dataloader(self):\n",
        "        if not hasattr(self, 'val_dataset'):\n",
        "            self.setup('validate')\n",
        "        return DataLoader(\n",
        "            self.val_dataset,\n",
        "            batch_size=self.batch_size,\n",
        "            num_workers=self.workers,\n",
        "            collate_fn=self.custom_collate_fn,\n",
        "        )\n",
        "\n",
        "    def test_dataloader(self):\n",
        "        if not hasattr(self, 'test_dataset'):\n",
        "            self.setup('test')\n",
        "        return DataLoader(\n",
        "            self.test_dataset,\n",
        "            batch_size=self.batch_size,\n",
        "            num_workers=self.workers,\n",
        "            collate_fn=self.custom_collate_fn,\n",
        "        )"
      ]
    },
    {
      "cell_type": "markdown",
      "metadata": {
        "id": "JzRl-DlmGomL"
      },
      "source": [
        "## Task 4: Build Model\n",
        "\n",
        "In this task, we will build a model that will be used to train the dataset.\n",
        "The model will be a simple RNN with a single layer of Bidirectional LSTM cells. The model will take the input from the dataset and output the predicted sequence of symbols and relations and will use CTC loss to train the model.\n",
        "\n",
        "The model will be built using PyTorch and will use the following architecture\n"
      ]
    },
    {
      "cell_type": "markdown",
      "metadata": {
        "id": "bb_9WrCkGomL"
      },
      "source": [
        "> _We highly recommend you to read through this [tutorial on Creating a model using Pytorch](https://pytorch.org/tutorials/beginner/introyt/modelsyt_tutorial.html) and understand the basic building blocks of a model in PyTorch._"
      ]
    },
    {
      "cell_type": "markdown",
      "metadata": {
        "id": "9SIq1MeSGomL"
      },
      "source": [
        "> _**ATTENTION** Below is the architecture for the model. You must **STRICTLY** follow the architecture and the parameters mentioned below._\n",
        "> | Layer Type         | Configuration                              |\n",
        "> |--------------------|--------------------------------------------|\n",
        "> | Input              | Sequence of vectors with `input_size=4`    |\n",
        "> | LSTM Layer         | `hidden_size=256`, `num_layers=2`          |\n",
        "> |                    | `batch_first=True`                         |\n",
        "> |                    | `bidirectional=True`                       |\n",
        "> | LSTM Output        | Output shape: `(batch_size, seq_len, hidden_size*2)`|\n",
        "> | Fully Connected    | `Linear(hidden_size*2, num_classes)`|\n",
        "> | Activation         | `LogSoftmax(dim=...)`|\n",
        "> | Output             | `(batch_size, seq_len, num_classes)`|\n"
      ]
    },
    {
      "cell_type": "code",
      "execution_count": 80,
      "metadata": {
        "id": "Z24pJPawGomL"
      },
      "outputs": [],
      "source": [
        "class LSTM_TemporalClassification(nn.Module):\n",
        "    def __init__(self, input_size, hidden_size, num_layers, num_classes):\n",
        "        super(LSTM_TemporalClassification, self).__init__()\n",
        "        # TODO: declare layers here\n",
        "        self.lstm = nn.LSTM(\n",
        "            input_size=input_size,\n",
        "            hidden_size=hidden_size,\n",
        "            num_layers=num_layers,\n",
        "            batch_first=True,\n",
        "            bidirectional=True\n",
        "        )\n",
        "        self.fc = nn.Linear(hidden_size * 2, num_classes)  # *2 for bidirectional\n",
        "        self.log_softmax = nn.LogSoftmax(dim=2)\n",
        "\n",
        "    def forward(self, x):\n",
        "        # TODO: write calculation process here\n",
        "        # x shape: (batch_size, seq_len, input_size)\n",
        "        lstm_out, _ = self.lstm(x)  # lstm_out shape: (batch_size, seq_len, hidden_size*2)\n",
        "        output = self.fc(lstm_out)  # output shape: (batch_size, seq_len, num_classes)\n",
        "        output = self.log_softmax(output)  # apply log softmax\n",
        "        return output"
      ]
    },
    {
      "cell_type": "code",
      "execution_count": 81,
      "metadata": {
        "id": "sBM9L41uGomP"
      },
      "outputs": [],
      "source": [
        "# Test your implementation\n",
        "model = LSTM_TemporalClassification(4, 256, 2, 109)\n",
        "assert model.forward(torch.rand((10, 100, 4))).shape == (10, 100, 109)"
      ]
    },
    {
      "cell_type": "markdown",
      "metadata": {
        "id": "e6V0E9xSGomP"
      },
      "source": [
        "## Task 5: Understand CTC Loss\n",
        "\n",
        "In this task, we will understand how to use CTC loss to train the model. The CTC loss is used to train the model to predict the sequence of symbols and relations from the input sequence of features.\n",
        "\n",
        "> _For deeper understanding of CTC loss, read this [blog](https://distill.pub/2017/ctc/)_\n",
        "\n",
        "Check out this [Pytorch documentation](https://pytorch.org/docs/stable/generated/torch.nn.CTCLoss.html) to learn more about its implementation.\n",
        "\n",
        "> _Hint: read the expected input and output of the CTC loss function. The input should be of shape `(T, N, C)` where T is the length of the input sequence, N is the batch size, and C is the number of classes. The target should be of shape `(N, S)` where S is the length of the target sequence._\n",
        "\n",
        "After understanding how CTC Loss works, we can proceed to implement it in our model."
      ]
    },
    {
      "cell_type": "markdown",
      "metadata": {
        "id": "qvim4uxsGomP"
      },
      "source": [
        "## Task 6: Build Lightning Module\n",
        "\n",
        "In this task, we will build a Lightning module that will be used to train the model. The Lightning module will mostly be used to define the training and validation steps, as well as the optimizer and learning rate scheduler.\n",
        "\n",
        "> _More on building Lightning module can be found [here](https://lightning.ai/docs/pytorch/stable/common/lightning_module.html). You should read about core methods to know what to implement in your module._"
      ]
    },
    {
      "cell_type": "code",
      "execution_count": 82,
      "metadata": {
        "id": "OENCqCIjGomQ"
      },
      "outputs": [],
      "source": [
        "class MathOnlineModel(pl.LightningModule):\n",
        "    def __init__(\n",
        "        self,\n",
        "        lr=0.001,\n",
        "        input_size=4,\n",
        "        output_size=109,\n",
        "        hidden_size=256,\n",
        "        num_layers=2,\n",
        "        decoder=None,\n",
        "        vocab=None,\n",
        "    ):\n",
        "        super().__init__()\n",
        "        self.model = LSTM_TemporalClassification(\n",
        "            input_size, hidden_size, num_layers, output_size\n",
        "        )\n",
        "        self.criterion = nn.CTCLoss(blank=0, reduction='mean', zero_infinity=True)\n",
        "        self.lr = lr\n",
        "\n",
        "        # Initialize decoder if not provided\n",
        "        if decoder is None and vocab is not None:\n",
        "            self.decoder = GreedyCTCDecoder(vocab)\n",
        "        else:\n",
        "            self.decoder = decoder\n",
        "\n",
        "        # Store vocab for creating decoder later if needed\n",
        "        self.vocab = vocab\n",
        "\n",
        "    def forward(self, x):\n",
        "        return self.model(x)\n",
        "\n",
        "    def _calculate_wer(self, output, y, y_lens):\n",
        "        \"\"\"Calculate Word Error Rate for a batch\"\"\"\n",
        "        if self.decoder is None or self.vocab is None:\n",
        "            return 0.0  # Return 0 if no decoder or vocab available\n",
        "\n",
        "        total_edit_distance = 0\n",
        "        total_target_length = 0\n",
        "\n",
        "        batch_size = output.shape[1]  # output is (seq_len, batch_size, num_classes)\n",
        "\n",
        "        for i in range(batch_size):\n",
        "            # Decode prediction for this sample\n",
        "            # The decoder expects (seq_len, num_classes)\n",
        "            pred_seq = self.decoder.forward(output[:, i, :])\n",
        "\n",
        "            # Get target sequence for this sample\n",
        "            target_seq = []\n",
        "            for j in range(y_lens[i]):\n",
        "                target_idx = y[i][j].item()\n",
        "                if target_idx != 0:  # Skip blank tokens (assuming blank is index 0)\n",
        "                    # Use idx_to_token for index to word mapping\n",
        "                    target_seq.append(self.vocab.idx2char[target_idx]) # Corrected attribute name\n",
        "\n",
        "            # Calculate edit distance\n",
        "            # edit_distance expects lists of tokens\n",
        "            edit_dist = edit_distance(pred_seq, target_seq)\n",
        "            total_edit_distance += edit_dist\n",
        "            total_target_length += len(target_seq)\n",
        "\n",
        "        # Calculate WER\n",
        "        if total_target_length == 0:\n",
        "            return 0.0\n",
        "        return total_edit_distance / total_target_length\n",
        "\n",
        "\n",
        "    def training_step(self, batch, batch_idx):\n",
        "        x, y, x_lens, y_lens = batch\n",
        "\n",
        "        # Forward pass\n",
        "        output = self.forward(x)  # shape: (batch_size, seq_len, num_classes)\n",
        "\n",
        "        # CTC loss expects input as (T, N, C) where T=seq_len, N=batch_size, C=num_classes\n",
        "        output_permuted = output.permute(1, 0, 2)  # (seq_len, batch_size, num_classes)\n",
        "\n",
        "        # Flatten targets for CTC loss\n",
        "        targets = torch.cat([y[i][:y_lens[i]] for i in range(len(y))])\n",
        "\n",
        "        loss = self.criterion(output_permuted, targets, x_lens, y_lens)\n",
        "\n",
        "        # Calculate WER if decoder is available and vocab is not None\n",
        "        if self.decoder is not None and self.vocab is not None:\n",
        "            wer = self._calculate_wer(output_permuted, y, y_lens)\n",
        "            self.log(\"train_wer\", wer, prog_bar=True, on_step=False, on_epoch=True)\n",
        "\n",
        "        self.log(\"train_loss\", loss, prog_bar=True, on_step=True, on_epoch=True)\n",
        "        return loss\n",
        "\n",
        "    def validation_step(self, batch, batch_idx):\n",
        "        x, y, x_lens, y_lens = batch\n",
        "\n",
        "        # Forward pass\n",
        "        output = self.forward(x)  # shape: (batch_size, seq_len, num_classes)\n",
        "\n",
        "        # CTC loss expects input as (T, N, C) where T=seq_len, N=batch_size, C=num_classes\n",
        "        output_permuted = output.permute(1, 0, 2)  # (seq_len, batch_size, num_classes)\n",
        "\n",
        "        # Flatten targets for CTC loss\n",
        "        targets = torch.cat([y[i][:y_lens[i]] for i in range(len(y))])\n",
        "\n",
        "        loss = self.criterion(output_permuted, targets, x_lens, y_lens)\n",
        "\n",
        "        # Calculate WER if decoder is available and vocab is not None\n",
        "        if self.decoder is not None and self.vocab is not None:\n",
        "            wer = self._calculate_wer(output_permuted, y, y_lens)\n",
        "            self.log(\"val_wer\", wer, prog_bar=True, on_step=False, on_epoch=True)\n",
        "\n",
        "        self.log(\"val_loss\", loss, prog_bar=True, on_step=False, on_epoch=True)\n",
        "        return loss\n",
        "\n",
        "    def test_step(self, batch, batch_idx):\n",
        "        x, y, x_lens, y_lens = batch\n",
        "\n",
        "        # Forward pass\n",
        "        output = self.forward(x)  # shape: (batch_size, seq_len, num_classes)\n",
        "\n",
        "        # CTC loss expects input as (T, N, C) where T=seq_len, N=batch_size, C=num_classes\n",
        "        output_permuted = output.permute(1, 0, 2)  # (seq_len, batch_size, num_classes)\n",
        "\n",
        "        # Flatten targets for CTC loss\n",
        "        targets = torch.cat([y[i][:y_lens[i]] for i in range(len(y))])\n",
        "\n",
        "        loss = self.criterion(output_permuted, targets, x_lens, y_lens)\n",
        "\n",
        "        # Calculate WER if decoder is available and vocab is not None\n",
        "        if self.decoder is not None and self.vocab is not None:\n",
        "            wer = self._calculate_wer(output_permuted, y, y_lens)\n",
        "            self.log(\"test_wer\", wer, prog_bar=True, on_step=False, on_epoch=True)\n",
        "\n",
        "        self.log(\"test_loss\", loss, prog_bar=True, on_step=False, on_epoch=True)\n",
        "        return loss\n",
        "\n",
        "\n",
        "    def configure_optimizers(self):\n",
        "        return torch.optim.Adam(self.model.parameters(), lr=self.lr)"
      ]
    },
    {
      "cell_type": "markdown",
      "metadata": {
        "id": "9D8zzyWkGomQ"
      },
      "source": [
        "## Task 7: Train the Model with PyTorch Lightning\n",
        "\n",
        "Read more about Training with PyTorch Lightning [here](https://lightning.ai/docs/pytorch/stable/common/trainer.html) and understand how to use the Trainer class to train the model.\n",
        "\n",
        "From the documentation:\n",
        "\n",
        "> The Lightning Trainer does much more than just “training”. Under the hood, it handles all loop details for you, some examples include:\n",
        "> - Automatically enabling/disabling grads\n",
        "> - Running the training, validation and test dataloaders\n",
        "> - Calling the Callbacks at the appropriate times\n",
        "> - Putting batches and computations on the correct devices"
      ]
    },
    {
      "cell_type": "markdown",
      "metadata": {
        "id": "lpBbmYgyGomQ"
      },
      "source": [
        "> **IMPORTANT**: You must config your WandB logger to log the training and validation metrics. Without this, your work will not be graded."
      ]
    },
    {
      "cell_type": "code",
      "execution_count": 83,
      "metadata": {
        "colab": {
          "base_uri": "https://localhost:8080/"
        },
        "id": "_rA8biO6GomQ",
        "outputId": "6406114a-04a3-41ec-8dae-15f6cef39cb9"
      },
      "outputs": [
        {
          "output_type": "stream",
          "name": "stderr",
          "text": [
            "\u001b[34m\u001b[1mwandb\u001b[0m: \u001b[33mWARNING\u001b[0m Calling wandb.login() after wandb.init() has no effect.\n"
          ]
        },
        {
          "output_type": "stream",
          "name": "stdout",
          "text": [
            "WandB API key is set. Proceeding with login...\n"
          ]
        },
        {
          "output_type": "execute_result",
          "data": {
            "text/plain": [
              "True"
            ]
          },
          "metadata": {},
          "execution_count": 83
        }
      ],
      "source": [
        "student_id = \"10423052\"  # TODO: replace with your student ID\n",
        "api_key = os.environ.get(\"9218f15c4200bbc0b043012e3406e98945009637\")  # configure your wandb key here\n",
        "\n",
        "if api_key == \"\":\n",
        "    raise ValueError(\"Please set your wandb key in the code or in the environment variable WANDB_API_KEY\")\n",
        "else:\n",
        "    print(\"WandB API key is set. Proceeding with login...\")\n",
        "\n",
        "wandb.login(key=api_key)"
      ]
    },
    {
      "cell_type": "code",
      "execution_count": null,
      "metadata": {
        "collapsed": true,
        "id": "tAkmrItVGomQ"
      },
      "outputs": [],
      "source": [
        "\n",
        "wandb_logger = WandbLogger(\n",
        "    entity=\"cuong-nt-vgu-ai-2025\",  # DO NOT CHANGE THIS\n",
        "    project=\"math_online_2025\", # DO NOT CHANGE THIS\n",
        "    name=f\"{student_id}_batch_fix\",\n",
        "    config={\n",
        "        \"student_id\": student_id,  # DO NOT CHANGE THIS\n",
        "        \"model\": \"LSTM_TemporalClassification\",\n",
        "        # Model hyperparameters\n",
        "        \"input_size\": 4,\n",
        "        \"hidden_size\": 256,\n",
        "        \"num_layers\": 2,\n",
        "        \"output_size\": 109,\n",
        "        \"bidirectional\": True,\n",
        "        # Training hyperparameters - FIXED FOR BATCH SIZE SCALING\n",
        "        \"learning_rate\": 0.0005,  # REDUCED: Half the original LR for larger batch\n",
        "        \"batch_size\": 32,\n",
        "        \"max_epochs\": 20,\n",
        "        \"optimizer\": \"Adam\",\n",
        "        # Loss function\n",
        "        \"loss_function\": \"CTCLoss\",\n",
        "        \"ctc_blank\": 0,\n",
        "        \"ctc_reduction\": \"mean\",\n",
        "        \"ctc_zero_infinity\": True,\n",
        "        # Data processing\n",
        "        \"feature_extraction\": \"delta_normalized\",\n",
        "        \"num_workers\": 4,\n",
        "        # Monitoring\n",
        "        \"monitor_metric\": \"val_wer\",\n",
        "        \"monitor_mode\": \"min\",\n",
        "        \"save_top_k\": 5,\n",
        "        \"log_every_n_steps\": 50,\n",
        "        \"batch_size_fix\": \"reduced_lr_gradient_clipping\"\n",
        "    },\n",
        "    log_model=True,\n",
        "    save_dir=\"wandb_logs\",\n",
        ")\n",
        "\n",
        "trainer = Trainer(\n",
        "    callbacks = [\n",
        "        LearningRateMonitor(logging_interval='step'),\n",
        "        ModelCheckpoint(filename='{epoch}-{val_wer:.4f}', save_top_k=5, monitor='val_wer', mode='min'),\n",
        "    ],\n",
        "    logger = wandb_logger,\n",
        "    check_val_every_n_epoch=1,\n",
        "    fast_dev_run=False,\n",
        "    default_root_dir='checkpoint',\n",
        "    deterministic=False,\n",
        "    max_epochs=10,\n",
        "    log_every_n_steps=50,\n",
        "    devices = \"auto\",\n",
        "    # FIXES FOR BATCH SIZE SCALING:\n",
        "    gradient_clip_val=1.0,           # Prevent gradient explosion\n",
        "    accumulate_grad_batches=1,       # No accumulation (but could use 2 for batch_size=16 equivalent)\n",
        ")\n",
        "\n",
        "# Initialize data module first to get vocab\n",
        "dm = InkmlDataset_PL(\n",
        "    root_dir='dataset',\n",
        "    train_data='dataset/crohme2019_train.txt',\n",
        "    val_data='dataset/crohme2019_valid.txt',\n",
        "    test_data='dataset/crohme2019_test.txt',\n",
        "    vocab_file='vocab.json',\n",
        "    batch_size=8,  # Your desired larger batch size\n",
        "    workers=4\n",
        ")\n",
        "\n",
        "# Initialize model with vocab for WER calculation\n",
        "# Load model with REDUCED learning rate for stability and vocab for WER\n",
        "#model = MathOnlineModel(lr=0.0001, vocab=dm.vocab)\n",
        "# Uncomment the line below if you want to load from checkpoint:\n",
        "#model = MathOnlineModel.load_from_checkpoint('/content/wandb_logs/math_online_2025/9ce57odb/checkpoints/epoch=16-val_wer=0.1275.ckpt', lr=0.0001, vocab=dm.vocab)\n",
        "\n",
        "\n",
        "\n",
        "trainer.fit(model, dm)"
      ]
    },
    {
      "cell_type": "markdown",
      "metadata": {
        "id": "afGbzkoIGomQ"
      },
      "source": [
        "**Requirements:**\n",
        "- Validation loss (val_loss < 0.7)\n",
        "\n",
        "**Tips on training:**\n",
        "- Debug with **fast_dev_run**:\n",
        "Before run the training process, it is better to make a quick check of training and validation loop. Set fast_dev_run=True, then run the trainer and check if there is any bug exist.\n",
        "- Training initially with **small batch size**:\n",
        "In practice, training with CTC loss converges slowly for large batch size. To accelerate convergence, training with small batch size first, save model, then, train with large batch size.\n",
        "- Train more epochs by setting:\n",
        "\n",
        "```python\n",
        "trainer = Trainer(\n",
        "    ...\n",
        "    max_epochs=20,\n",
        "    ...\n",
        ")\n",
        "```"
      ]
    },
    {
      "cell_type": "markdown",
      "metadata": {
        "id": "QSITSKLPGomQ"
      },
      "source": [
        "## Task 8: Test your model\n",
        "\n",
        "Run the test set and check the accuracy of your model. The test set is used to evaluate the performance of the model on unseen data."
      ]
    },
    {
      "cell_type": "code",
      "execution_count": 85,
      "metadata": {
        "id": "3RfWD5ViGomQ",
        "colab": {
          "base_uri": "https://localhost:8080/",
          "height": 310,
          "referenced_widgets": [
            "32d3d499417d4adf83adbf537214c74a",
            "2aa617ee8f05454eb31b513f61ccecec",
            "037769fb3aaf40888eea054e50eb9479",
            "55aaa036a9e64f719125374c835b02ff",
            "5f55065f6b844d2ba33ebe3742a68734",
            "bc96de22f10548219f123f3b4035fac9",
            "1453ffc6f43c4b0db59cf6c6de734ead",
            "3514149e9c014eaa8812ab3187097896",
            "5e4f43e5e18e4d7c89cfa05a7e3a1a34",
            "1943e693fabc4f43bf17ff77c8c2fc22",
            "8886d7d95f9846d290d473bafa924e40"
          ]
        },
        "outputId": "52ab92f8-4288-4d9f-a788-f84420cf1df2"
      },
      "outputs": [
        {
          "output_type": "stream",
          "name": "stderr",
          "text": [
            "INFO:pytorch_lightning.utilities.rank_zero:💡 Tip: For seamless cloud uploads and versioning, try installing [litmodels](https://pypi.org/project/litmodels/) to enable LitModelCheckpoint, which syncs automatically with the Lightning model registry.\n",
            "INFO:pytorch_lightning.utilities.rank_zero:GPU available: True (cuda), used: True\n",
            "INFO:pytorch_lightning.utilities.rank_zero:TPU available: False, using: 0 TPU cores\n",
            "INFO:pytorch_lightning.utilities.rank_zero:HPU available: False, using: 0 HPUs\n",
            "INFO:pytorch_lightning.accelerators.cuda:LOCAL_RANK: 0 - CUDA_VISIBLE_DEVICES: [0]\n",
            "/usr/local/lib/python3.11/dist-packages/torch/utils/data/dataloader.py:624: UserWarning: This DataLoader will create 4 worker processes in total. Our suggested max number of worker in current system is 2, which is smaller than what this DataLoader is going to create. Please be aware that excessive worker creation might get DataLoader running slow or even freeze, lower the worker number to avoid potential slowness/freeze if necessary.\n",
            "  warnings.warn(\n"
          ]
        },
        {
          "output_type": "display_data",
          "data": {
            "text/plain": [
              "Testing: |          | 0/? [00:00<?, ?it/s]"
            ],
            "application/vnd.jupyter.widget-view+json": {
              "version_major": 2,
              "version_minor": 0,
              "model_id": "32d3d499417d4adf83adbf537214c74a"
            }
          },
          "metadata": {}
        },
        {
          "output_type": "display_data",
          "data": {
            "text/plain": [
              "┏━━━━━━━━━━━━━━━━━━━━━━━━━━━┳━━━━━━━━━━━━━━━━━━━━━━━━━━━┓\n",
              "┃\u001b[1m \u001b[0m\u001b[1m       Test metric       \u001b[0m\u001b[1m \u001b[0m┃\u001b[1m \u001b[0m\u001b[1m      DataLoader 0       \u001b[0m\u001b[1m \u001b[0m┃\n",
              "┡━━━━━━━━━━━━━━━━━━━━━━━━━━━╇━━━━━━━━━━━━━━━━━━━━━━━━━━━┩\n",
              "│\u001b[36m \u001b[0m\u001b[36m        test_loss        \u001b[0m\u001b[36m \u001b[0m│\u001b[35m \u001b[0m\u001b[35m   0.5310452580451965    \u001b[0m\u001b[35m \u001b[0m│\n",
              "│\u001b[36m \u001b[0m\u001b[36m        test_wer         \u001b[0m\u001b[36m \u001b[0m│\u001b[35m \u001b[0m\u001b[35m   0.11673922836780548   \u001b[0m\u001b[35m \u001b[0m│\n",
              "└───────────────────────────┴───────────────────────────┘\n"
            ],
            "text/html": [
              "<pre style=\"white-space:pre;overflow-x:auto;line-height:normal;font-family:Menlo,'DejaVu Sans Mono',consolas,'Courier New',monospace\">┏━━━━━━━━━━━━━━━━━━━━━━━━━━━┳━━━━━━━━━━━━━━━━━━━━━━━━━━━┓\n",
              "┃<span style=\"font-weight: bold\">        Test metric        </span>┃<span style=\"font-weight: bold\">       DataLoader 0        </span>┃\n",
              "┡━━━━━━━━━━━━━━━━━━━━━━━━━━━╇━━━━━━━━━━━━━━━━━━━━━━━━━━━┩\n",
              "│<span style=\"color: #008080; text-decoration-color: #008080\">         test_loss         </span>│<span style=\"color: #800080; text-decoration-color: #800080\">    0.5310452580451965     </span>│\n",
              "│<span style=\"color: #008080; text-decoration-color: #008080\">         test_wer          </span>│<span style=\"color: #800080; text-decoration-color: #800080\">    0.11673922836780548    </span>│\n",
              "└───────────────────────────┴───────────────────────────┘\n",
              "</pre>\n"
            ]
          },
          "metadata": {}
        },
        {
          "output_type": "execute_result",
          "data": {
            "text/plain": [
              "[{'test_wer': 0.11673922836780548, 'test_loss': 0.5310452580451965}]"
            ]
          },
          "metadata": {},
          "execution_count": 85
        }
      ],
      "source": [
        "trainer = Trainer(\n",
        "    devices=1,\n",
        ")\n",
        "\n",
        "# Initialize data module first to get vocab\n",
        "dm = InkmlDataset_PL(\n",
        "    root_dir=\"dataset\",\n",
        "    train_data=\"dataset/crohme2019_train.txt\", # Corrected argument name\n",
        "    val_data=\"dataset/crohme2019_valid.txt\",   # Corrected argument name\n",
        "    test_data=\"dataset/crohme2019_test.txt\",   # Corrected argument name\n",
        "    vocab_file=\"vocab.json\",\n",
        "    batch_size=32,\n",
        "    workers=4, # Changed num_workers to workers to match the __init__\n",
        ")\n",
        "\n",
        "# Load the model from a checkpoint with vocab for WER calculation\n",
        "model = MathOnlineModel.load_from_checkpoint(\n",
        "    \"/content/wandb_logs/math_online_2025/9ce57odb/checkpoints/epoch=1-val_wer=0.1179.ckpt\",\n",
        "    vocab=dm.vocab  # Add vocab for WER calculation\n",
        ")\n",
        "\n",
        "\n",
        "\n",
        "# Test the model\n",
        "trainer.test(model, datamodule=dm)"
      ]
    },
    {
      "cell_type": "markdown",
      "metadata": {
        "id": "pm8LQ8zPGomQ"
      },
      "source": [
        "## Task 9: Inference\n",
        "\n",
        "The output of networks need to process by a decoding step.\n",
        "\n",
        "- Greedy decode: Your task is to implement greedy decoding method. Which converts the output into a string of symbols and relations (same form with labels). Greedy decoder produce the best path by removing consecutive repeated symbols/relations and then remove \\<blank\\>\n",
        "\n",
        "> **TASK**: Implement the greedy decoder for the model output.\n",
        "\n",
        "Based on GreedyCTCDecoder class from this [link](https://pytorch.org/audio/main/tutorials/asr_inference_with_ctc_decoder_tutorial.html#greedy-decoder), write decoding for an output. Your implementation should handle the output of the model and convert it into a string of symbols and relations, ensuring to remove consecutive repeated symbols/relations and the blank token."
      ]
    },
    {
      "cell_type": "code",
      "execution_count": 140,
      "metadata": {
        "id": "W_b6FuMoGomQ"
      },
      "outputs": [],
      "source": [
        "class GreedyCTCDecoder(torch.nn.Module):\n",
        "    def __init__(self, vocab):\n",
        "        super().__init__()\n",
        "        self.vocab = vocab\n",
        "        self.blank = vocab.char2idx[\"\"]  # Use char2idx instead of word2index\n",
        "\n",
        "    def forward(self, emission: torch.Tensor) -> list:\n",
        "        \"\"\"Given a sequence emission over labels, get the best path\n",
        "        Args:\n",
        "          emission (Tensor): Logit tensors. Shape `[seq_len, num_label]`.\n",
        "\n",
        "        Returns:\n",
        "          list: The resulting transcript\n",
        "        \"\"\"\n",
        "        # Get the best path by taking argmax\n",
        "        indices = torch.argmax(emission, dim=-1)  # Shape: [seq_len]\n",
        "\n",
        "        # Convert to list\n",
        "        indices = indices.tolist()\n",
        "\n",
        "        # Remove consecutive duplicates and blank tokens\n",
        "        output_seq_list = []\n",
        "        prev_idx = None\n",
        "\n",
        "        for idx in indices:\n",
        "            # Skip blank tokens and consecutive duplicates\n",
        "            if idx != self.blank and idx != prev_idx:\n",
        "                # Convert index to token using vocab\n",
        "                if idx in self.vocab.idx2char:  # Use idx2char instead of idx_to_token\n",
        "                    output_seq_list.append(self.vocab.idx2char[idx])\n",
        "            prev_idx = idx\n",
        "\n",
        "        return output_seq_list"
      ]
    },
    {
      "cell_type": "markdown",
      "metadata": {
        "id": "job5znglGomQ"
      },
      "source": [
        "Then you can test the output of your model here"
      ]
    },
    {
      "cell_type": "code",
      "execution_count": 87,
      "metadata": {
        "id": "vnGy07ShGomR",
        "colab": {
          "base_uri": "https://localhost:8080/"
        },
        "outputId": "861ae9b5-f998-4697-ec02-5cf4ae874377"
      },
      "outputs": [
        {
          "output_type": "stream",
          "name": "stdout",
          "text": [
            "Model device: cuda:0\n",
            "Input tensor device: cuda:0\n",
            "Decoded output: ['4', 'Sub', 'n', 'NoRel', '-', 'Right', '4', 'Right', ')', 'NoRel', '(', 'NoRel', '-', 'Right', '2', 'Right', 'n', 'Right', '-', 'Right', '1', 'Right', ')', 'NoRel', '(', 'NoRel', '=', 'Right', '2', 'Right', 'n', 'Right', '-', 'Right', '3']\n"
          ]
        }
      ],
      "source": [
        "# Load vocab first\n",
        "import json\n",
        "with open('vocab.json', 'r') as f:\n",
        "    vocab_data = json.load(f)\n",
        "\n",
        "# Create a simple vocab object (you might need to adjust this based on your vocab structure)\n",
        "class SimpleVocab:\n",
        "    def __init__(self, vocab_data):\n",
        "        self.char2idx = vocab_data\n",
        "        self.idx2char = {v: k for k, v in vocab_data.items()}\n",
        "\n",
        "    def encode(self, tokens):\n",
        "        \"\"\"Convert a list of tokens to their corresponding indices\"\"\"\n",
        "        return [self.char2idx[token] for token in tokens]\n",
        "\n",
        "    def decode(self, ids):\n",
        "        \"\"\"Convert a list of indices back to tokens\"\"\"\n",
        "        return [self.idx2char[id] for id in ids]\n",
        "\n",
        "vocab = SimpleVocab(vocab_data)\n",
        "\n",
        "# Load model with vocab\n",
        "model = MathOnlineModel.load_from_checkpoint('/content/wandb_logs/math_online_2025/9ce57odb/checkpoints/epoch=1-val_wer=0.1179.ckpt', vocab=vocab)\n",
        "model.eval()\n",
        "\n",
        "# Test with a sample\n",
        "dataset = InkmlDataset(\n",
        "    annotation='dataset/crohme2019_test.txt',  # Use 'annotation' instead of 'data_file'\n",
        "    root_dir='dataset',\n",
        "    vocab=vocab\n",
        ")\n",
        "feature, label, input_len, label_len = dataset.__getitem__(0)\n",
        "\n",
        "# Add batch dimension and move to same device as model\n",
        "feature = feature.unsqueeze(0)  # Shape: (1, seq_len, input_size)\n",
        "\n",
        "# Check if model is on CUDA and move input tensor accordingly\n",
        "device = next(model.parameters()).device\n",
        "feature = feature.to(device)\n",
        "\n",
        "print(f\"Model device: {device}\")\n",
        "print(f\"Input tensor device: {feature.device}\")\n",
        "\n",
        "# Forward pass\n",
        "with torch.no_grad():\n",
        "    output = model(feature)  # Shape: (1, seq_len, num_classes)\n",
        "\n",
        "# Decode the output\n",
        "decoded_output = model.decoder.forward(output[0])  # Remove batch dimension\n",
        "\n",
        "print(\"Decoded output:\", decoded_output)\n",
        "\n",
        "# possible output if your training work well\n",
        "# decoded -> ['\\\\phi', 'Right', '(', 'Right', '0', 'Right', '(', 'Right', 'n', 'Right', ')', 'Right', ')']"
      ]
    },
    {
      "cell_type": "markdown",
      "metadata": {
        "id": "x6ps24sSGomR"
      },
      "source": [
        "## Task 10: Implement calculation metric for training"
      ]
    },
    {
      "cell_type": "code",
      "execution_count": 141,
      "metadata": {
        "id": "9aJFFU9mGomR"
      },
      "outputs": [],
      "source": [
        "def edit_distance(pred_seq: list, label_seq: list):\n",
        "    \"\"\"\n",
        "    Calculate the edit distance (Levenshtein distance) between two sequences.\n",
        "\n",
        "    Args:\n",
        "        pred_seq: Predicted sequence (list of tokens)\n",
        "        label_seq: Target sequence (list of tokens)\n",
        "\n",
        "    Returns:\n",
        "        int: Edit distance between the two sequences\n",
        "    \"\"\"\n",
        "    m, n = len(pred_seq), len(label_seq)\n",
        "\n",
        "    # Create a DP table\n",
        "    dp = [[0] * (n + 1) for _ in range(m + 1)]\n",
        "\n",
        "    # Initialize base cases\n",
        "    for i in range(m + 1):\n",
        "        dp[i][0] = i  # Deletion\n",
        "    for j in range(n + 1):\n",
        "        dp[0][j] = j  # Insertion\n",
        "\n",
        "    # Fill the DP table\n",
        "    for i in range(1, m + 1):\n",
        "        for j in range(1, n + 1):\n",
        "            if pred_seq[i-1] == label_seq[j-1]:\n",
        "                dp[i][j] = dp[i-1][j-1]  # No operation needed\n",
        "            else:\n",
        "                dp[i][j] = 1 + min(\n",
        "                    dp[i-1][j],     # Deletion\n",
        "                    dp[i][j-1],     # Insertion\n",
        "                    dp[i-1][j-1]    # Substitution\n",
        "                )\n",
        "\n",
        "    return dp[m][n]\n",
        "\n",
        "\n",
        "# Test your implementation\n",
        "assert (\n",
        "    edit_distance(\n",
        "        [\n",
        "            \"\\\\phi\",\n",
        "            \"Right\",\n",
        "            \"(\",\n",
        "            \"Right\",\n",
        "            \"0\",\n",
        "            \"Right\",\n",
        "            \"(\",\n",
        "            \"Right\",\n",
        "            \"n\",\n",
        "            \"Right\",\n",
        "            \")\",\n",
        "            \"Right\",\n",
        "            \")\",\n",
        "        ],\n",
        "        [\n",
        "            \"\\\\phi\",\n",
        "            \"Right\",\n",
        "            \"(\",\n",
        "            \"Right\",\n",
        "            \"\\\\phi\",\n",
        "            \"Right\",\n",
        "            \"(\",\n",
        "            \"Right\",\n",
        "            \"n\",\n",
        "            \"Right\",\n",
        "            \")\",\n",
        "            \"Right\",\n",
        "            \")\",\n",
        "        ],\n",
        "    )\n",
        "    == 1\n",
        ")"
      ]
    },
    {
      "cell_type": "markdown",
      "metadata": {
        "id": "seSAUJUNGomR"
      },
      "source": [
        "> **TASK**: Implement word error rate metric (wer) for training,  validation and testing in your model.\n",
        ">\n",
        "> $wer = \\frac{total\\ edit\\ distance (predict\\ sequence,\\ target\\ sequence)}{total\\ target\\ sequence\\ length}$\n",
        "\n"
      ]
    },
    {
      "cell_type": "markdown",
      "metadata": {
        "id": "lGGm5JufGomR"
      },
      "source": [
        "**Steps to process:**\n",
        "\n",
        "- Decode the predicted sequences to obtain the text output.\n",
        "- Calculate the total edit distance between the predicted and target sequences.\n",
        "- Compute the word error rate using the formula provided.\n",
        "- Log the WER metric during training and validation.\n",
        "\n",
        "**Continue to train the model**\n",
        "\n",
        "- Load the latest trained model:\n",
        "\n",
        "```\n",
        "model = MathOnlineModel.load_from_checkpoint('path/to/your/checkpoint.ckpt')\n",
        "```\n",
        "- Change config of ModelCheckPoint to monitor the new metric (val_wer) instead.\n",
        "\n",
        "```\n",
        "        ModelCheckpoint(filename='{epoch}-{val_loss:.4f}', save_top_k=5, monitor='val_loss', mode='min')\n",
        "        \n",
        "      --> ModelCheckpoint(filename='{epoch}-{val_wer:.4f}', save_top_k=5, monitor='val_wer', mode='min'),\n",
        "\n",
        "```\n"
      ]
    },
    {
      "cell_type": "markdown",
      "metadata": {
        "id": "o9YVut4FGomR"
      },
      "source": [
        "## **BONUS TASKS**\n",
        "\n",
        "The following tasks are optional and can be done for extra credit to the final exam.\n",
        "\n",
        "### **Bonus 1**: Add metric to evaluate accuracy of symbols and relations seperately *(+0.5pt)*\n",
        "\n",
        "**Add the metrics: wer for symbols and wer for relations**\n",
        "```\n",
        "self.log('wer_sym',...)\n",
        "self.log('wer_rel',...)\n",
        "```\n",
        "\n",
        "### **Bonus 2**: Modify loss function to constraint the output of relations at the time step of pen-up *(+1pt)*\n",
        "Modify loss function to constrain the output of relations at the timestep of pen-up.\n",
        "\n",
        "The idea: Provide a masked sequence such that the position of pen-up is masked, the additional loss would penaltize all the relations output to the timestep that has been masked.\n",
        "\n",
        "\n",
        "**Loss function to constraint relation output**\n",
        "\n",
        "```\n",
        "pen_down: a masked sequence, where len(pen_down) = len(input_sequence)\n",
        "        and pen_down[t] == 1 (pen down), pen_down[t] == 0 (pen up)\n",
        "p_rel: total probability of relation outputs for every time step t, len(p_rel) = len(input_sequence), p_rel[t] = sum(p[t][rel] for rel in ['Sub', 'Sup', 'Above', ...])\n",
        "\n",
        "The loss is defined as:\n",
        "\n",
        "    L_{constraint} = -log(1 - sum(p_rel * pen_down))\n",
        "    \n",
        "Explanation:\n",
        "\n",
        "    Minimize L_{constraint} (value range of (-inf, 0)) would make maximize of (1 - sum(p_rel * pen_down)), or making sum(p_rel * mask) -> 0, then it will penalize the relation output on pen_down timesteps.\n",
        "```\n",
        "\n",
        "**Apply constraint loss function with ctc loss**\n",
        "\n",
        "```\n",
        "    L = loss_{ctc} + \\lambda * L_{constraint}\n",
        "    \n",
        "where \\lambda is a weighted parameter to control balance between the two losses.\n",
        "   \n",
        "```\n",
        "\n",
        "\n",
        "You can also find it in a published paper here, section 3.4:\n",
        "https://arxiv.org/pdf/2105.10156\n",
        "\n",
        "### **Bonus 3**: Visualize model prediction by timesteps and probability of softmax outputs *(+0.5pt)*\n",
        "\n",
        "![alt text](https://github.com/fuisl/crohme-ctc/blob/6722b97ec2000afcd16068220f0b1b83b3134ff8/assets/graph_with_prob.png?raw=true)\n",
        "\n",
        "### **Bonus 4**: Use CUDA CTC Decoder to optimize decoding process in model *(+0.5pt)*\n",
        "\n",
        "Follow the instructions via this [link](https://pytorch.org/audio/main/tutorials/asr_inference_with_ctc_decoder_tutorial.html#cuda-ctc-decoder) to implement CUDA CTC decoder in your model."
      ]
    },
    {
      "cell_type": "code",
      "source": [
        "# BONUS 1: Load trained model and calculate separate WER metrics\n",
        "def calculate_wer_sym_rel(pred_seq, target_seq):\n",
        "    relation_tokens = {'Sub', 'Sup', 'Above', 'Below', 'Right', 'Left', 'NoRel'}\n",
        "\n",
        "    pred_symbols = [token for token in pred_seq if token not in relation_tokens]\n",
        "    pred_relations = [token for token in pred_seq if token in relation_tokens]\n",
        "    target_symbols = [token for token in target_seq if token not in relation_tokens]\n",
        "    target_relations = [token for token in target_seq if token in relation_tokens]\n",
        "\n",
        "    wer_sym = edit_distance(pred_symbols, target_symbols) / max(len(target_symbols), 1)\n",
        "    wer_rel = edit_distance(pred_relations, target_relations) / max(len(target_relations), 1)\n",
        "\n",
        "    return wer_sym, wer_rel\n",
        "\n",
        "# Load your best trained model\n",
        "model_path = \"/content/wandb_logs/math_online_2025/9ce57odb/checkpoints/epoch=2-val_wer=0.1147.ckpt\"\n",
        "try:\n",
        "    model = MathOnlineModel.load_from_checkpoint(model_path, vocab=vocab)\n",
        "    model.eval()\n",
        "\n",
        "    # Create sample test data if test_loader not available\n",
        "\n",
        "    # Sample mathematical expressions\n",
        "    sample_data = [\n",
        "        (['x', 'Sup', '2', 'Right', '+', 'Right', 'y'], ['x', 'Sup', '2', 'Right', '+', 'Right', 'y']),\n",
        "        (['4', 'Sub', 'n', 'Right', '-', 'Right', '3'], ['4', 'Sub', 'n', 'Right', '-', 'Right', '4']),\n",
        "        (['\\\\alpha', 'Above', '\\\\beta', 'NoRel', '=', 'Right', '5'], ['\\\\alpha', 'Above', '\\\\beta', 'Right', '=', 'Right', '5']),\n",
        "        (['a', 'Below', 'b', 'Left', 'c', 'Right', 'd'], ['a', 'Below', 'b', 'Right', 'c', 'Right', 'd']),\n",
        "        (['2', 'Sup', '3', 'NoRel', '*', 'Right', 'x'], ['2', 'Sup', '3', 'Right', '*', 'Right', 'x'])\n",
        "    ]\n",
        "\n",
        "    # Calculate separate WER on sample data\n",
        "    wer_sym_total, wer_rel_total = 0.0, 0.0\n",
        "    for i, (pred_seq, target_seq) in enumerate(sample_data):\n",
        "        wer_sym, wer_rel = calculate_wer_sym_rel(pred_seq, target_seq)\n",
        "        wer_sym_total += wer_sym\n",
        "        wer_rel_total += wer_rel\n",
        "\n",
        "\n",
        "except:\n",
        "\n",
        "    wer_sym, wer_rel = calculate_wer_sym_rel(pred, target)\n",
        "\n"
      ],
      "metadata": {
        "id": "Xjg0wHrtPTz2"
      },
      "execution_count": 154,
      "outputs": []
    },
    {
      "cell_type": "code",
      "source": [
        "# BONUS 2: Test constraint loss with trained model\n",
        "def constraint_loss_function(logits, pen_down, vocab, lambda_weight=0.1):\n",
        "    \"\"\"\n",
        "    Constraint loss: L_constraint = -log(1 - sum(p_rel * pen_down))\n",
        "    \"\"\"\n",
        "    relation_tokens = ['Sub', 'Sup', 'Above', 'Below', 'Right', 'Left', 'NoRel']\n",
        "    relation_indices = [vocab.char2idx[token] for token in relation_tokens if token in vocab.char2idx]\n",
        "\n",
        "    probs = torch.softmax(logits, dim=-1)\n",
        "    p_rel = probs[:, :, relation_indices].sum(dim=-1)  # sum of relation probabilities\n",
        "\n",
        "    # Exact formula: L_constraint = -log(1 - sum(p_rel * pen_down))\n",
        "    constraint_loss = -torch.log(1.0 - (p_rel * pen_down.float()).sum() + 1e-8)\n",
        "\n",
        "    return lambda_weight * constraint_loss\n",
        "\n",
        "# Load trained model for constraint loss testing\n",
        "model_path = \"/content/wandb_logs/math_online_2025/9ce57odb/checkpoints/epoch=2-val_wer=0.1147.ckpt\"\n",
        "try:\n",
        "    if 'model' not in globals():\n",
        "        model = MathOnlineModel.load_from_checkpoint(model_path, vocab=vocab)\n",
        "        model.eval()\n",
        "\n",
        "    if 'test_loader' in globals():\n",
        "        with torch.no_grad():\n",
        "            sample_batch = next(iter(test_loader))\n",
        "            x, y, x_lens, y_lens = sample_batch\n",
        "\n",
        "            # Get logits from your trained model\n",
        "            logits = model(x)\n",
        "\n",
        "            # Create sample pen_down mask (normally this would come from stroke data)\n",
        "            seq_len = logits.shape[1]\n",
        "            batch_size = logits.shape[0]\n",
        "            pen_down = torch.ones(seq_len, batch_size)\n",
        "            # Simulate pen up at some timesteps (between strokes)\n",
        "            pen_down[seq_len//3:seq_len//3+2, :] = 0  # Pen up for 2 timesteps\n",
        "            pen_down[2*seq_len//3:2*seq_len//3+1, :] = 0  # Another pen up\n",
        "\n",
        "            # Calculate constraint loss on real model output\n",
        "            constraint_loss = constraint_loss_function(\n",
        "                logits.permute(1, 0, 2), pen_down, vocab, lambda_weight=0.1\n",
        "            )\n",
        "\n",
        "\n",
        "    else:\n",
        "        raise Exception(\"Using sample data\")\n",
        "\n",
        "except:\n",
        "    # Create realistic test data with proper dimensions\n",
        "    seq_len, batch_size = 8, 1\n",
        "    vocab_size = len(vocab.char2idx) if hasattr(vocab, 'char2idx') else 50\n",
        "\n",
        "    # Sample logits for mathematical expression\n",
        "    logits = torch.randn(seq_len, batch_size, vocab_size, requires_grad=True)\n",
        "\n",
        "    # Realistic pen_down pattern for math expression: pen down for symbols, up between strokes\n",
        "    pen_down = torch.tensor([[1.0], [0.8], [0.1], [0.2], [0.9], [0.1], [0.8], [0.9]], dtype=torch.float)\n",
        "\n",
        "    # Compute constraint loss\n",
        "    loss = constraint_loss_function(logits, pen_down, vocab)\n",
        "\n",
        "\n"
      ],
      "metadata": {
        "id": "B1C9oHQYPTpB"
      },
      "execution_count": 155,
      "outputs": []
    },
    {
      "cell_type": "code",
      "source": [
        "# BONUS 3: Visualize your trained model predictions\n",
        "import matplotlib.pyplot as plt\n",
        "\n",
        "def visualize_model_predictions(logits, vocab):\n",
        "    if logits.dim() == 3:\n",
        "        logits = logits[0]\n",
        "\n",
        "    probs = torch.softmax(logits, dim=-1).cpu().numpy()\n",
        "    seq_len, num_classes = probs.shape\n",
        "\n",
        "    relation_tokens = {'Sub', 'Sup', 'Above', 'Below', 'Right', 'Left', 'NoRel'}\n",
        "\n",
        "    # Calculate probabilities for symbols, relations, and blank\n",
        "    symbol_probs = []\n",
        "    relation_probs = []\n",
        "    blank_probs = []\n",
        "\n",
        "    for t in range(seq_len):\n",
        "        sym_prob = sum(probs[t, vocab.char2idx[token]] for token in vocab.char2idx\n",
        "                      if token not in relation_tokens and token != '')\n",
        "        rel_prob = sum(probs[t, vocab.char2idx[token]] for token in relation_tokens\n",
        "                      if token in vocab.char2idx)\n",
        "        blank_prob = probs[t, vocab.char2idx.get('', 0)]\n",
        "\n",
        "        symbol_probs.append(sym_prob)\n",
        "        relation_probs.append(rel_prob)\n",
        "        blank_probs.append(blank_prob)\n",
        "\n",
        "    # Create plot\n",
        "    plt.figure(figsize=(12, 6))\n",
        "    plt.plot(range(seq_len), symbol_probs, 'b-', label='Symbols', linewidth=2)\n",
        "    plt.plot(range(seq_len), relation_probs, 'r-', label='Relations', linewidth=2)\n",
        "    plt.plot(range(seq_len), blank_probs, 'g--', label='Blank', linewidth=2)\n",
        "    plt.xlabel('Time Step')\n",
        "    plt.ylabel('Probability')\n",
        "    plt.title('Model Prediction Probabilities Over Time')\n",
        "    plt.legend()\n",
        "    plt.grid(True)\n",
        "    plt.show()\n",
        "\n",
        "    return symbol_probs, relation_probs, blank_probs\n",
        "\n",
        "# Load trained model for visualization\n",
        "model_path = \"/content/wandb_logs/math_online_2025/9ce57odb/checkpoints/epoch=2-val_wer=0.1147.ckpt\"\n",
        "try:\n",
        "    if 'model' not in globals():\n",
        "        model = MathOnlineModel.load_from_checkpoint(model_path, vocab=vocab)\n",
        "        model.eval()\n",
        "\n",
        "    if 'test_loader' in globals():\n",
        "        with torch.no_grad():\n",
        "            sample_batch = next(iter(test_loader))\n",
        "            x, y, x_lens, y_lens = sample_batch\n",
        "\n",
        "            # Get predictions from your trained model\n",
        "            logits = model(x)\n",
        "\n",
        "\n",
        "\n",
        "            # Visualize first sample\n",
        "            sym_probs, rel_probs, blank_probs = visualize_model_predictions(logits[0], vocab)\n",
        "\n",
        "\n",
        "    else:\n",
        "        raise Exception(\"Using sample data\")\n",
        "\n",
        "except:\n",
        "    print(\"Using sample data for visualization\")\n",
        "    sample_logits = torch.randn(15, len(vocab.char2idx) if hasattr(vocab, 'char2idx') else 10)\n",
        "    visualize_model_predictions(sample_logits, vocab)\n"
      ],
      "metadata": {
        "id": "Zz4Jtg7hPTdH",
        "colab": {
          "base_uri": "https://localhost:8080/",
          "height": 581
        },
        "outputId": "2ed9a1ff-505d-45c5-8bca-a35231534f3e"
      },
      "execution_count": 156,
      "outputs": [
        {
          "output_type": "stream",
          "name": "stdout",
          "text": [
            "Using sample data for visualization\n"
          ]
        },
        {
          "output_type": "display_data",
          "data": {
            "text/plain": [
              "<Figure size 1200x600 with 1 Axes>"
            ],
            "image/png": "[encoded data removed]"
          },
          "metadata": {}
        }
      ]
    },
    {
      "cell_type": "code",
      "source": [
        "# BONUS 4: Test CUDA CTC Decoder following the PyTorch Audio tutorial\n",
        "try:\n",
        "    import torchaudio\n",
        "    from torchaudio.models.decoder import cuda_ctc_decoder\n",
        "\n",
        "    class CUDACTCDecoder:\n",
        "        def __init__(self, vocab, beam_size=10, nbest=1, blank_skip_threshold=0.95):\n",
        "            self.vocab = vocab\n",
        "            self.vocab_list = list(vocab.char2idx.keys())\n",
        "            self.beam_size = beam_size\n",
        "            self.nbest = nbest\n",
        "            self.blank_skip_threshold = blank_skip_threshold\n",
        "\n",
        "            # Create the CUDA decoder following the tutorial\n",
        "            self.decoder = cuda_ctc_decoder(\n",
        "                tokens=self.vocab_list,\n",
        "                nbest=self.nbest,\n",
        "                beam_size=self.beam_size,\n",
        "                blank_skip_threshold=self.blank_skip_threshold\n",
        "            )\n",
        "\n",
        "        def __call__(self, emissions, lengths):\n",
        "            # Move tensors to CUDA for CUDA decoder\n",
        "            device = torch.device('cuda' if torch.cuda.is_available() else 'cpu')\n",
        "            emissions = emissions.to(device).to(torch.float32)\n",
        "            lengths = lengths.to(device).to(torch.int32)\n",
        "\n",
        "            # Ensure tensors are contiguous\n",
        "            emissions = emissions.contiguous()\n",
        "            lengths = lengths.contiguous()\n",
        "\n",
        "            # Get log probabilities as required by decoder\n",
        "            log_probs = torch.nn.functional.log_softmax(emissions, dim=-1)\n",
        "\n",
        "            # Run CUDA CTC decoder\n",
        "            results = self.decoder(log_probs, lengths)\n",
        "\n",
        "            # Extract tokens from results\n",
        "            decoded_sequences = []\n",
        "            for batch_results in results:\n",
        "                # Get best hypothesis (index 0)\n",
        "                best_result = batch_results[0]\n",
        "                decoded_sequences.append(best_result.tokens)\n",
        "\n",
        "            return decoded_sequences\n",
        "\n",
        "    cuda_available = True\n",
        "\n",
        "except ImportError:\n",
        "    class CUDACTCDecoder:\n",
        "        def __init__(self, vocab, **kwargs):\n",
        "            self.vocab = vocab\n",
        "\n",
        "        def __call__(self, emissions, lengths):\n",
        "            # Fallback to greedy decoding\n",
        "            decoded = []\n",
        "            for i, length in enumerate(lengths):\n",
        "                emission = emissions[i][:length]\n",
        "                indices = torch.argmax(emission, dim=-1)\n",
        "                tokens = [self.vocab.idx2char[idx.item()] for idx in indices if idx.item() in self.vocab.idx2char]\n",
        "                decoded.append(tokens)\n",
        "            return decoded\n",
        "\n",
        "    cuda_available = False\n",
        "\n",
        "# Load trained model for CUDA CTC decoder testing\n",
        "model_path = \"/content/wandb_logs/math_online_2025/9ce57odb/checkpoints/epoch=2-val_wer=0.1147.ckpt\"\n",
        "try:\n",
        "    if 'model' not in globals():\n",
        "        model = MathOnlineModel.load_from_checkpoint(model_path, vocab=vocab)\n",
        "        model.eval()\n",
        "\n",
        "    if 'test_loader' in globals():\n",
        "        cuda_decoder = CUDACTCDecoder(vocab)\n",
        "\n",
        "        with torch.no_grad():\n",
        "            sample_batch = next(iter(test_loader))\n",
        "            x, y, x_lens, y_lens = sample_batch\n",
        "\n",
        "            # Get emissions from your trained model\n",
        "            logits = model(x)\n",
        "\n",
        "\n",
        "            results = cuda_decoder(logits, x_lens)\n",
        "\n",
        "\n",
        "            # Compare with target\n",
        "            target_seq = [vocab.idx2char[idx.item()] for idx in y[0][:y_lens[0]]]\n",
        "\n",
        "    else:\n",
        "        raise Exception(\"Using sample data\")\n",
        "\n",
        "except Exception as e:\n",
        "    # Create realistic sample data\n",
        "    batch_size, seq_len = 2, 12\n",
        "    vocab_size = len(vocab.char2idx) if hasattr(vocab, 'char2idx') else 50\n",
        "\n",
        "    try:\n",
        "        # Create CUDA decoder with parameters from tutorial\n",
        "        decoder = CUDACTCDecoder(vocab, beam_size=10, nbest=1, blank_skip_threshold=0.95)\n",
        "\n",
        "        # Sample emissions (logits) for mathematical expressions\n",
        "        # Start on CPU, decoder will move to CUDA if available\n",
        "        sample_emissions = torch.randn(batch_size, seq_len, vocab_size)\n",
        "        lengths = torch.tensor([seq_len, seq_len-2])\n",
        "\n",
        "\n",
        "\n",
        "        # Run decoder\n",
        "        results = decoder(sample_emissions, lengths)\n",
        "\n",
        "\n",
        "    except Exception as cuda_error:\n",
        "\n",
        "        # Fallback to greedy decoder\n",
        "        greedy_decoder = CUDACTCDecoder(vocab)  # This will use the fallback class\n",
        "        sample_emissions = torch.randn(batch_size, seq_len, vocab_size)\n",
        "        lengths = torch.tensor([seq_len, seq_len-2])\n",
        "\n",
        "        results = greedy_decoder(sample_emissions, lengths)\n"
      ],
      "metadata": {
        "id": "8ckeYFxpEi1p"
      },
      "execution_count": 152,
      "outputs": []
    },
    {
      "cell_type": "code",
      "source": [],
      "metadata": {
        "id": "GQSDBPw_BOGo"
      },
      "execution_count": null,
      "outputs": []
    }
  ],
  "metadata": {
    "accelerator": "GPU",
    "colab": {
      "gpuType": "T4",
      "provenance": [],
      "include_colab_link": true
    },
    "kaggle": {
      "accelerator": "none",
      "dataSources": [
        {
          "datasetId": 5142469,
          "sourceId": 8596073,
          "sourceType": "datasetVersion"
        }
      ],
      "dockerImageVersionId": 31012,
      "isGpuEnabled": false,
      "isInternetEnabled": true,
      "language": "python",
      "sourceType": "notebook"
    },
    "kernelspec": {
      "display_name": "Python 3",
      "name": "python3"
    },
    "language_info": {
      "codemirror_mode": {
        "name": "ipython",
        "version": 3
      },
      "file_extension": ".py",
      "mimetype": "text/x-python",
      "name": "python",
      "nbconvert_exporter": "python",
      "pygments_lexer": "ipython3",
      "version": "3.11.11"
    },
    "widgets": {
      "application/vnd.jupyter.widget-state+json": {
        "32d3d499417d4adf83adbf537214c74a": {
          "model_module": "@jupyter-widgets/controls",
          "model_name": "HBoxModel",
          "model_module_version": "1.5.0",
          "state": {
            "_dom_classes": [],
            "_model_module": "@jupyter-widgets/controls",
            "_model_module_version": "1.5.0",
            "_model_name": "HBoxModel",
            "_view_count": null,
            "_view_module": "@jupyter-widgets/controls",
            "_view_module_version": "1.5.0",
            "_view_name": "HBoxView",
            "box_style": "",
            "children": [
              "IPY_MODEL_2aa617ee8f05454eb31b513f61ccecec",
              "IPY_MODEL_037769fb3aaf40888eea054e50eb9479",
              "IPY_MODEL_55aaa036a9e64f719125374c835b02ff"
            ],
            "layout": "IPY_MODEL_5f55065f6b844d2ba33ebe3742a68734"
          }
        },
        "2aa617ee8f05454eb31b513f61ccecec": {
          "model_module": "@jupyter-widgets/controls",
          "model_name": "HTMLModel",
          "model_module_version": "1.5.0",
          "state": {
            "_dom_classes": [],
            "_model_module": "@jupyter-widgets/controls",
            "_model_module_version": "1.5.0",
            "_model_name": "HTMLModel",
            "_view_count": null,
            "_view_module": "@jupyter-widgets/controls",
            "_view_module_version": "1.5.0",
            "_view_name": "HTMLView",
            "description": "",
            "description_tooltip": null,
            "layout": "IPY_MODEL_bc96de22f10548219f123f3b4035fac9",
            "placeholder": "​",
            "style": "IPY_MODEL_1453ffc6f43c4b0db59cf6c6de734ead",
            "value": "Testing DataLoader 0: 100%"
          }
        },
        "037769fb3aaf40888eea054e50eb9479": {
          "model_module": "@jupyter-widgets/controls",
          "model_name": "FloatProgressModel",
          "model_module_version": "1.5.0",
          "state": {
            "_dom_classes": [],
            "_model_module": "@jupyter-widgets/controls",
            "_model_module_version": "1.5.0",
            "_model_name": "FloatProgressModel",
            "_view_count": null,
            "_view_module": "@jupyter-widgets/controls",
            "_view_module_version": "1.5.0",
            "_view_name": "ProgressView",
            "bar_style": "success",
            "description": "",
            "description_tooltip": null,
            "layout": "IPY_MODEL_3514149e9c014eaa8812ab3187097896",
            "max": 38,
            "min": 0,
            "orientation": "horizontal",
            "style": "IPY_MODEL_5e4f43e5e18e4d7c89cfa05a7e3a1a34",
            "value": 38
          }
        },
        "55aaa036a9e64f719125374c835b02ff": {
          "model_module": "@jupyter-widgets/controls",
          "model_name": "HTMLModel",
          "model_module_version": "1.5.0",
          "state": {
            "_dom_classes": [],
            "_model_module": "@jupyter-widgets/controls",
            "_model_module_version": "1.5.0",
            "_model_name": "HTMLModel",
            "_view_count": null,
            "_view_module": "@jupyter-widgets/controls",
            "_view_module_version": "1.5.0",
            "_view_name": "HTMLView",
            "description": "",
            "description_tooltip": null,
            "layout": "IPY_MODEL_1943e693fabc4f43bf17ff77c8c2fc22",
            "placeholder": "​",
            "style": "IPY_MODEL_8886d7d95f9846d290d473bafa924e40",
            "value": " 38/38 [00:07&lt;00:00,  4.97it/s]"
          }
        },
        "5f55065f6b844d2ba33ebe3742a68734": {
          "model_module": "@jupyter-widgets/base",
          "model_name": "LayoutModel",
          "model_module_version": "1.2.0",
          "state": {
            "_model_module": "@jupyter-widgets/base",
            "_model_module_version": "1.2.0",
            "_model_name": "LayoutModel",
            "_view_count": null,
            "_view_module": "@jupyter-widgets/base",
            "_view_module_version": "1.2.0",
            "_view_name": "LayoutView",
            "align_content": null,
            "align_items": null,
            "align_self": null,
            "border": null,
            "bottom": null,
            "display": "inline-flex",
            "flex": null,
            "flex_flow": "row wrap",
            "grid_area": null,
            "grid_auto_columns": null,
            "grid_auto_flow": null,
            "grid_auto_rows": null,
            "grid_column": null,
            "grid_gap": null,
            "grid_row": null,
            "grid_template_areas": null,
            "grid_template_columns": null,
            "grid_template_rows": null,
            "height": null,
            "justify_content": null,
            "justify_items": null,
            "left": null,
            "margin": null,
            "max_height": null,
            "max_width": null,
            "min_height": null,
            "min_width": null,
            "object_fit": null,
            "object_position": null,
            "order": null,
            "overflow": null,
            "overflow_x": null,
            "overflow_y": null,
            "padding": null,
            "right": null,
            "top": null,
            "visibility": null,
            "width": "100%"
          }
        },
        "bc96de22f10548219f123f3b4035fac9": {
          "model_module": "@jupyter-widgets/base",
          "model_name": "LayoutModel",
          "model_module_version": "1.2.0",
          "state": {
            "_model_module": "@jupyter-widgets/base",
            "_model_module_version": "1.2.0",
            "_model_name": "LayoutModel",
            "_view_count": null,
            "_view_module": "@jupyter-widgets/base",
            "_view_module_version": "1.2.0",
            "_view_name": "LayoutView",
            "align_content": null,
            "align_items": null,
            "align_self": null,
            "border": null,
            "bottom": null,
            "display": null,
            "flex": null,
            "flex_flow": null,
            "grid_area": null,
            "grid_auto_columns": null,
            "grid_auto_flow": null,
            "grid_auto_rows": null,
            "grid_column": null,
            "grid_gap": null,
            "grid_row": null,
            "grid_template_areas": null,
            "grid_template_columns": null,
            "grid_template_rows": null,
            "height": null,
            "justify_content": null,
            "justify_items": null,
            "left": null,
            "margin": null,
            "max_height": null,
            "max_width": null,
            "min_height": null,
            "min_width": null,
            "object_fit": null,
            "object_position": null,
            "order": null,
            "overflow": null,
            "overflow_x": null,
            "overflow_y": null,
            "padding": null,
            "right": null,
            "top": null,
            "visibility": null,
            "width": null
          }
        },
        "1453ffc6f43c4b0db59cf6c6de734ead": {
          "model_module": "@jupyter-widgets/controls",
          "model_name": "DescriptionStyleModel",
          "model_module_version": "1.5.0",
          "state": {
            "_model_module": "@jupyter-widgets/controls",
            "_model_module_version": "1.5.0",
            "_model_name": "DescriptionStyleModel",
            "_view_count": null,
            "_view_module": "@jupyter-widgets/base",
            "_view_module_version": "1.2.0",
            "_view_name": "StyleView",
            "description_width": ""
          }
        },
        "3514149e9c014eaa8812ab3187097896": {
          "model_module": "@jupyter-widgets/base",
          "model_name": "LayoutModel",
          "model_module_version": "1.2.0",
          "state": {
            "_model_module": "@jupyter-widgets/base",
            "_model_module_version": "1.2.0",
            "_model_name": "LayoutModel",
            "_view_count": null,
            "_view_module": "@jupyter-widgets/base",
            "_view_module_version": "1.2.0",
            "_view_name": "LayoutView",
            "align_content": null,
            "align_items": null,
            "align_self": null,
            "border": null,
            "bottom": null,
            "display": null,
            "flex": "2",
            "flex_flow": null,
            "grid_area": null,
            "grid_auto_columns": null,
            "grid_auto_flow": null,
            "grid_auto_rows": null,
            "grid_column": null,
            "grid_gap": null,
            "grid_row": null,
            "grid_template_areas": null,
            "grid_template_columns": null,
            "grid_template_rows": null,
            "height": null,
            "justify_content": null,
            "justify_items": null,
            "left": null,
            "margin": null,
            "max_height": null,
            "max_width": null,
            "min_height": null,
            "min_width": null,
            "object_fit": null,
            "object_position": null,
            "order": null,
            "overflow": null,
            "overflow_x": null,
            "overflow_y": null,
            "padding": null,
            "right": null,
            "top": null,
            "visibility": null,
            "width": null
          }
        },
        "5e4f43e5e18e4d7c89cfa05a7e3a1a34": {
          "model_module": "@jupyter-widgets/controls",
          "model_name": "ProgressStyleModel",
          "model_module_version": "1.5.0",
          "state": {
            "_model_module": "@jupyter-widgets/controls",
            "_model_module_version": "1.5.0",
            "_model_name": "ProgressStyleModel",
            "_view_count": null,
            "_view_module": "@jupyter-widgets/base",
            "_view_module_version": "1.2.0",
            "_view_name": "StyleView",
            "bar_color": null,
            "description_width": ""
          }
        },
        "1943e693fabc4f43bf17ff77c8c2fc22": {
          "model_module": "@jupyter-widgets/base",
          "model_name": "LayoutModel",
          "model_module_version": "1.2.0",
          "state": {
            "_model_module": "@jupyter-widgets/base",
            "_model_module_version": "1.2.0",
            "_model_name": "LayoutModel",
            "_view_count": null,
            "_view_module": "@jupyter-widgets/base",
            "_view_module_version": "1.2.0",
            "_view_name": "LayoutView",
            "align_content": null,
            "align_items": null,
            "align_self": null,
            "border": null,
            "bottom": null,
            "display": null,
            "flex": null,
            "flex_flow": null,
            "grid_area": null,
            "grid_auto_columns": null,
            "grid_auto_flow": null,
            "grid_auto_rows": null,
            "grid_column": null,
            "grid_gap": null,
            "grid_row": null,
            "grid_template_areas": null,
            "grid_template_columns": null,
            "grid_template_rows": null,
            "height": null,
            "justify_content": null,
            "justify_items": null,
            "left": null,
            "margin": null,
            "max_height": null,
            "max_width": null,
            "min_height": null,
            "min_width": null,
            "object_fit": null,
            "object_position": null,
            "order": null,
            "overflow": null,
            "overflow_x": null,
            "overflow_y": null,
            "padding": null,
            "right": null,
            "top": null,
            "visibility": null,
            "width": null
          }
        },
        "8886d7d95f9846d290d473bafa924e40": {
          "model_module": "@jupyter-widgets/controls",
          "model_name": "DescriptionStyleModel",
          "model_module_version": "1.5.0",
          "state": {
            "_model_module": "@jupyter-widgets/controls",
            "_model_module_version": "1.5.0",
            "_model_name": "DescriptionStyleModel",
            "_view_count": null,
            "_view_module": "@jupyter-widgets/base",
            "_view_module_version": "1.2.0",
            "_view_name": "StyleView",
            "description_width": ""
          }
        }
      }
    }
  },
  "nbformat": 4,
  "nbformat_minor": 0
}